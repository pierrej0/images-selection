{
  "nbformat": 4,
  "nbformat_minor": 0,
  "metadata": {
    "accelerator": "GPU",
    "colab": {
      "name": "W5 computer and images.ipynb",
      "provenance": [],
      "collapsed_sections": [],
      "include_colab_link": true
    },
    "kernelspec": {
      "display_name": "Python 3",
      "name": "python3"
    }
  },
  "cells": [
    {
      "cell_type": "markdown",
      "metadata": {
        "id": "view-in-github",
        "colab_type": "text"
      },
      "source": [
        "<a href=\"https://colab.research.google.com/github/pierrej0/images-selection/blob/main/W5_computer_and_images.ipynb\" target=\"_parent\"><img src=\"https://colab.research.google.com/assets/colab-badge.svg\" alt=\"Open In Colab\"/></a>"
      ]
    },
    {
      "cell_type": "markdown",
      "metadata": {
        "id": "WZgpnge5JUoO"
      },
      "source": [
        "Import of libraries"
      ]
    },
    {
      "cell_type": "code",
      "metadata": {
        "colab": {
          "base_uri": "https://localhost:8080/"
        },
        "id": "I03Y-eOXXnWS",
        "outputId": "3e1d341f-6dd2-4805-fe52-5a80c054e914"
      },
      "source": [
        "!pip install -Uqq fastbook\n",
        "import fastbook\n",
        "fastbook.setup_book()\n"
      ],
      "execution_count": 1,
      "outputs": [
        {
          "output_type": "stream",
          "text": [
            "\u001b[K     |████████████████████████████████| 727kB 23.9MB/s \n",
            "\u001b[K     |████████████████████████████████| 51kB 8.6MB/s \n",
            "\u001b[K     |████████████████████████████████| 1.2MB 38.6MB/s \n",
            "\u001b[K     |████████████████████████████████| 204kB 54.8MB/s \n",
            "\u001b[K     |████████████████████████████████| 61kB 8.9MB/s \n",
            "\u001b[K     |████████████████████████████████| 61kB 9.7MB/s \n",
            "\u001b[?25hMounted at /content/gdrive\n"
          ],
          "name": "stdout"
        }
      ]
    },
    {
      "cell_type": "code",
      "metadata": {
        "id": "AGzd8SsYX0Pl"
      },
      "source": [
        "from pathlib import Path\n",
        "from fastbook import *\n",
        "matplotlib.rc('image', cmap='Greys')"
      ],
      "execution_count": 10,
      "outputs": []
    },
    {
      "cell_type": "markdown",
      "metadata": {
        "id": "NIMPHsv7Jmm7"
      },
      "source": [
        "I use my images from my google drive so I mount the drive"
      ]
    },
    {
      "cell_type": "code",
      "metadata": {
        "colab": {
          "base_uri": "https://localhost:8080/"
        },
        "id": "wXXi0hI8N-EI",
        "outputId": "caaa02be-267e-4603-e161-0b23b95957e0"
      },
      "source": [
        "from google.colab import drive\n",
        "drive.mount('/content/drive')"
      ],
      "execution_count": 11,
      "outputs": [
        {
          "output_type": "stream",
          "text": [
            "Drive already mounted at /content/drive; to attempt to forcibly remount, call drive.mount(\"/content/drive\", force_remount=True).\n"
          ],
          "name": "stdout"
        }
      ]
    },
    {
      "cell_type": "markdown",
      "metadata": {
        "id": "4-0m3Ou_J1kQ"
      },
      "source": [
        "I give the path to access the image folders"
      ]
    },
    {
      "cell_type": "code",
      "metadata": {
        "id": "CaMyp4ejizbF"
      },
      "source": [
        "#path = Path(\"/content/images1/\")\n",
        "path = Path(\"/content/drive/MyDrive/image selection/images\")"
      ],
      "execution_count": 12,
      "outputs": []
    },
    {
      "cell_type": "code",
      "metadata": {
        "colab": {
          "base_uri": "https://localhost:8080/"
        },
        "id": "Z6J0fPRZ_4Fd",
        "outputId": "3199ee7c-bf76-4dae-e42c-6d865a1b0b65"
      },
      "source": [
        "path.ls()"
      ],
      "execution_count": 13,
      "outputs": [
        {
          "output_type": "execute_result",
          "data": {
            "text/plain": [
              "(#8) [Path('/content/drive/MyDrive/image selection/images/plogo.png'),Path('/content/drive/MyDrive/image selection/images/plogo-rename.png'),Path('/content/drive/MyDrive/image selection/images/plogo-resized.png'),Path('/content/drive/MyDrive/image selection/images/image1.png'),Path('/content/drive/MyDrive/image selection/images/.ipynb_checkpoints'),Path('/content/drive/MyDrive/image selection/images/image2.png'),Path('/content/drive/MyDrive/image selection/images/plogo-resized.jpg'),Path('/content/drive/MyDrive/image selection/images/plogo-resi.png')]"
            ]
          },
          "metadata": {
            "tags": []
          },
          "execution_count": 13
        }
      ]
    },
    {
      "cell_type": "code",
      "metadata": {
        "id": "L2knvKAtAaKp"
      },
      "source": [
        "image_folder = (path).ls().sorted()"
      ],
      "execution_count": 14,
      "outputs": []
    },
    {
      "cell_type": "markdown",
      "metadata": {
        "id": "oIMajUK2AOH7"
      },
      "source": [
        "**An image is nothing more than a two-dimensional array of numbers: it is a matrices of pixel values**\n",
        "\n",
        "---\n",
        "\n"
      ]
    },
    {
      "cell_type": "code",
      "metadata": {
        "colab": {
          "base_uri": "https://localhost:8080/",
          "height": 137
        },
        "id": "eEWhNRsRAgmn",
        "outputId": "1ebeb4a3-93be-4357-b595-0efd9ed80d53"
      },
      "source": [
        "im_path = image_folder[-1]\n",
        "im_png = Image.open(im_path)\n",
        "im_png"
      ],
      "execution_count": 15,
      "outputs": [
        {
          "output_type": "execute_result",
          "data": {
            "image/png": "[encoded data removed]",
            "text/plain": [
              "<PIL.PngImagePlugin.PngImageFile image mode=L size=160x120 at 0x7F990B3EF7D0>"
            ]
          },
          "metadata": {
            "tags": []
          },
          "execution_count": 15
        }
      ]
    },
    {
      "cell_type": "code",
      "metadata": {
        "colab": {
          "base_uri": "https://localhost:8080/"
        },
        "id": "10BLxmApBuK4",
        "outputId": "9d39aa0a-ef6f-410f-8503-02bb67f74a8f"
      },
      "source": [
        "im_png.size"
      ],
      "execution_count": 16,
      "outputs": [
        {
          "output_type": "execute_result",
          "data": {
            "text/plain": [
              "(160, 120)"
            ]
          },
          "metadata": {
            "tags": []
          },
          "execution_count": 16
        }
      ]
    },
    {
      "cell_type": "markdown",
      "metadata": {
        "id": "FSdYe8NgBjvr"
      },
      "source": [
        "For a greyscale image, each pixel would have an intensity between 0 and 255, with 0 being black ans 255 being white.\n",
        "I convert my image to a numpy array"
      ]
    },
    {
      "cell_type": "code",
      "metadata": {
        "colab": {
          "base_uri": "https://localhost:8080/"
        },
        "id": "740kbVwuBJAL",
        "outputId": "5b5d3b03-7d4c-4bc2-c727-1f051dda227e"
      },
      "source": [
        "array(im_png)[10:30,30:50]\n"
      ],
      "execution_count": 17,
      "outputs": [
        {
          "output_type": "execute_result",
          "data": {
            "text/plain": [
              "array([[  0,   0,   0,   0,   0,   0,   0,   0,   0,   0,   0,   0,   0,   0,   0,   0,   0,   0,   0,   0],\n",
              "       [  0,   0,   0,   0,   0,   0,   0,   0,   0,   0,   0,   0,   0,   0,   0,   0,   0,   0,   0,   0],\n",
              "       [  0,   0,   0,   0,   0,   0,  28,  96, 147, 147, 107,  48,   0,   0,   0,   0,   0,   0,   0,   0],\n",
              "       [  0,   0,   0,   0,   5,  81, 196, 255, 255, 255, 255, 239, 141,  25,   0,   0,   0,   0,   0,   0],\n",
              "       [  0,   0,   0,   8,  76, 177, 255, 255, 255, 255, 255, 255, 251, 142,  33,   0,   0,   0,   0,   0],\n",
              "       [  0,   0,   0,  51, 106, 206, 255, 255, 255, 255, 255, 255, 255, 205, 110,  22,   0,   0,   0,   0],\n",
              "       [  0,   0,  28,  69, 106, 198, 255, 255, 255, 255, 255, 255, 255, 213, 145,  90,   3,   0,   0,   0],\n",
              "       [  0,   0,  95,  75,  86, 156, 229, 255, 255, 255, 255, 255, 246, 180, 139, 108,  24,   0,   0,   1],\n",
              "       [  0,   0, 143,  71,  69, 112, 167, 219, 249, 255, 253, 233, 190, 142, 144, 128,  35,   0,   9,  93],\n",
              "       [  0,   4, 127,  72,  61,  70, 109, 133, 157, 168, 171, 146, 124, 165, 186, 170,  44,   0,  62, 127],\n",
              "       [  0,   0,  99, 117, 116,  52,  62,  89, 112, 114, 112, 117, 107, 180, 176, 140,  44,   4,  72, 113],\n",
              "       [  0,   0,  71, 109, 100,  45,  43,  76, 102,  98,  89,  87,  79, 108, 105, 103,  28,  15,  76,  73],\n",
              "       [  0,   0,  18, 100,  63,  38,  37,  39,  51,  57,  60,  67,  82,  86,  63,  66,   2,   2,  62,  61],\n",
              "       [  0,   0,   0,  52,  80,  43,  40,  38,  49,  66,  54,  47,  64,  61,  47,  32,   0,   0,  33,  62],\n",
              "       [  0,   0,   0,   0,  41,  56,  41,  47,  60,  73,  45,  43,  61,  52,  38,   1,   0,   0,   0,  39],\n",
              "       [  0,   0,   0,   0,   0,  22,  43,  45,  53,  57,  66, 115, 104,  42,   0,   0,   0,   0,   0,   0],\n",
              "       [  0,   0,   0,   0,   0,   0,   1,   4,  22,  27,  40,  34,   4,   0,   0,   0,   0,   0,   0,   0],\n",
              "       [  0,   0,   0,   0,   0,   0,   0,   8,  18,  10,   0,   0,   0,   0,   0,   0,   0,   0,   0,   1],\n",
              "       [  0,   0,   0,   0,   0,   0,  25, 139, 189, 172,  93,   9,   0,   0,   0,   0,   0,   0,  26, 131],\n",
              "       [  0,   0,   0,   0,   0,  29,  69, 120, 205, 200, 121,  69,   0,   0,   0,   0,   0,  21,  69, 117]], dtype=uint8)"
            ]
          },
          "metadata": {
            "tags": []
          },
          "execution_count": 17
        }
      ]
    },
    {
      "cell_type": "markdown",
      "metadata": {
        "id": "3LxuVCxfCDQi"
      },
      "source": [
        "Start Python Image Library (PIL)\n",
        "\n",
        "---\n",
        "\n"
      ]
    },
    {
      "cell_type": "code",
      "metadata": {
        "id": "-gQ4cRFlEmzA"
      },
      "source": [
        "from PIL import Image"
      ],
      "execution_count": 18,
      "outputs": []
    },
    {
      "cell_type": "code",
      "metadata": {
        "id": "7caagx_MEvTd",
        "colab": {
          "base_uri": "https://localhost:8080/",
          "height": 137
        },
        "outputId": "40a28135-8a20-41b0-9da2-1b8f375d1a79"
      },
      "source": [
        "im = Image.open(\"/content/drive/MyDrive/image selection/images/plogo.png\")\n",
        "im"
      ],
      "execution_count": 19,
      "outputs": [
        {
          "output_type": "execute_result",
          "data": {
            "image/png": "[encoded data removed]",
            "text/plain": [
              "<PIL.PngImagePlugin.PngImageFile image mode=L size=160x120 at 0x7F990B357590>"
            ]
          },
          "metadata": {
            "tags": []
          },
          "execution_count": 19
        }
      ]
    },
    {
      "cell_type": "code",
      "metadata": {
        "colab": {
          "base_uri": "https://localhost:8080/"
        },
        "id": "JtgcPXeRFq5M",
        "outputId": "69f7a4d5-f4dc-427b-9c88-074fa1c62ca6"
      },
      "source": [
        "im.size"
      ],
      "execution_count": 20,
      "outputs": [
        {
          "output_type": "execute_result",
          "data": {
            "text/plain": [
              "(160, 120)"
            ]
          },
          "metadata": {
            "tags": []
          },
          "execution_count": 20
        }
      ]
    },
    {
      "cell_type": "markdown",
      "metadata": {
        "id": "bge2TXlEIaHY"
      },
      "source": [
        "crop an Image\n",
        "\n",
        "---\n",
        "\n"
      ]
    },
    {
      "cell_type": "code",
      "metadata": {
        "id": "VnrAiNf3Flvf",
        "colab": {
          "base_uri": "https://localhost:8080/",
          "height": 67
        },
        "outputId": "ed79a539-434e-4440-8b57-cf726093063c"
      },
      "source": [
        "im1 = im.crop((50,30,110,80))\n",
        "im2 = im1.save(\"/content/drive/MyDrive/image selection/images/plogo-resized.jpg\")\n",
        "im1"
      ],
      "execution_count": 31,
      "outputs": [
        {
          "output_type": "execute_result",
          "data": {
            "image/png": "[encoded data removed]",
            "text/plain": [
              "<PIL.Image.Image image mode=L size=60x50 at 0x7F990B057450>"
            ]
          },
          "metadata": {
            "tags": []
          },
          "execution_count": 31
        }
      ]
    },
    {
      "cell_type": "markdown",
      "metadata": {
        "id": "e3JDyA0jIeLr"
      },
      "source": [
        "Rotate an Image\n",
        "\n",
        "---\n",
        "\n"
      ]
    },
    {
      "cell_type": "code",
      "metadata": {
        "colab": {
          "base_uri": "https://localhost:8080/",
          "height": 137
        },
        "id": "q2tZI_zSIa8A",
        "outputId": "381a45e1-2ee4-4367-e875-5cb80e1ab88f"
      },
      "source": [
        "im3= im.rotate(90)\n",
        "im3"
      ],
      "execution_count": 32,
      "outputs": [
        {
          "output_type": "execute_result",
          "data": {
            "image/png": "[encoded data removed]",
            "text/plain": [
              "<PIL.Image.Image image mode=L size=160x120 at 0x7F990B05D390>"
            ]
          },
          "metadata": {
            "tags": []
          },
          "execution_count": 32
        }
      ]
    },
    {
      "cell_type": "markdown",
      "metadata": {
        "id": "Y9eXKLo4Iiqb"
      },
      "source": [
        "Resize an Image\n",
        "\n",
        "---\n",
        "\n"
      ]
    },
    {
      "cell_type": "code",
      "metadata": {
        "colab": {
          "base_uri": "https://localhost:8080/"
        },
        "id": "Ud9Wb1FRIogi",
        "outputId": "f8cda630-d31a-47a1-b9c5-3bd649a71646"
      },
      "source": [
        "height = 60 #modify it as per your need\n",
        "width = 80 #modify it as per your need\n",
        "im4 = im.resize((width, height), Image.ANTIALIAS)\n",
        "im4.size"
      ],
      "execution_count": 33,
      "outputs": [
        {
          "output_type": "execute_result",
          "data": {
            "text/plain": [
              "(80, 60)"
            ]
          },
          "metadata": {
            "tags": []
          },
          "execution_count": 33
        }
      ]
    },
    {
      "cell_type": "markdown",
      "metadata": {
        "id": "rePdaO7OImOv"
      },
      "source": [
        "Save an Image\n",
        "\n",
        "---\n",
        "\n"
      ]
    },
    {
      "cell_type": "code",
      "metadata": {
        "id": "jE-wcrHsJDEP"
      },
      "source": [
        "im5= im4.save(\"/content/drive/MyDrive/image selection/images/plogo-resi.png\",'png')"
      ],
      "execution_count": 24,
      "outputs": []
    },
    {
      "cell_type": "markdown",
      "metadata": {
        "id": "84wUbL7jDHjz"
      },
      "source": [
        "**Why tensors?**\n",
        "\n",
        "---\n",
        "\n",
        "\n",
        "Tensors are containers that organize our data into structures that can be processed efficiently in parallel.  "
      ]
    },
    {
      "cell_type": "markdown",
      "metadata": {
        "id": "MavtPw_MGgDK"
      },
      "source": [
        "**Definition :** \n",
        "\n",
        "---\n",
        "\n",
        "\n",
        "\n",
        "\n",
        "Rank: number of axes or dimension\n",
        "\n",
        "Shape of a tensor: length of each axis"
      ]
    },
    {
      "cell_type": "code",
      "metadata": {
        "id": "sVMrrmqsJ1Nf"
      },
      "source": [
        "image_tensors = tensor(im_png)"
      ],
      "execution_count": 25,
      "outputs": []
    },
    {
      "cell_type": "code",
      "metadata": {
        "colab": {
          "base_uri": "https://localhost:8080/"
        },
        "id": "iAubmaNcI8B-",
        "outputId": "65066a5b-9797-44ab-87e9-8f45fd48db22"
      },
      "source": [
        "type(image_tensors)"
      ],
      "execution_count": 34,
      "outputs": [
        {
          "output_type": "execute_result",
          "data": {
            "text/plain": [
              "torch.Tensor"
            ]
          },
          "metadata": {
            "tags": []
          },
          "execution_count": 34
        }
      ]
    },
    {
      "cell_type": "code",
      "metadata": {
        "colab": {
          "base_uri": "https://localhost:8080/"
        },
        "id": "nqzYZr8nKT8t",
        "outputId": "04819157-aa6e-49fd-da87-4c9ad0cbb9a6"
      },
      "source": [
        "image_tensors.shape"
      ],
      "execution_count": 35,
      "outputs": [
        {
          "output_type": "execute_result",
          "data": {
            "text/plain": [
              "torch.Size([120, 160])"
            ]
          },
          "metadata": {
            "tags": []
          },
          "execution_count": 35
        }
      ]
    },
    {
      "cell_type": "code",
      "metadata": {
        "colab": {
          "base_uri": "https://localhost:8080/"
        },
        "id": "CUfBQcewL_Qn",
        "outputId": "a2881fbd-253e-43e2-c812-3df5705deb28"
      },
      "source": [
        "len(image_tensors.shape)"
      ],
      "execution_count": 36,
      "outputs": [
        {
          "output_type": "execute_result",
          "data": {
            "text/plain": [
              "2"
            ]
          },
          "metadata": {
            "tags": []
          },
          "execution_count": 36
        }
      ]
    },
    {
      "cell_type": "code",
      "metadata": {
        "colab": {
          "base_uri": "https://localhost:8080/"
        },
        "id": "dmZa4s-1KcX8",
        "outputId": "47b3c510-c40a-437d-daf1-cf2be01a827d"
      },
      "source": [
        "ten = tensor(im_png)[10:30,30:50]\n",
        "ten"
      ],
      "execution_count": 37,
      "outputs": [
        {
          "output_type": "execute_result",
          "data": {
            "text/plain": [
              "tensor([[  0,   0,   0,   0,   0,   0,   0,   0,   0,   0,   0,   0,   0,   0,   0,   0,   0,   0,   0,   0],\n",
              "        [  0,   0,   0,   0,   0,   0,   0,   0,   0,   0,   0,   0,   0,   0,   0,   0,   0,   0,   0,   0],\n",
              "        [  0,   0,   0,   0,   0,   0,  28,  96, 147, 147, 107,  48,   0,   0,   0,   0,   0,   0,   0,   0],\n",
              "        [  0,   0,   0,   0,   5,  81, 196, 255, 255, 255, 255, 239, 141,  25,   0,   0,   0,   0,   0,   0],\n",
              "        [  0,   0,   0,   8,  76, 177, 255, 255, 255, 255, 255, 255, 251, 142,  33,   0,   0,   0,   0,   0],\n",
              "        [  0,   0,   0,  51, 106, 206, 255, 255, 255, 255, 255, 255, 255, 205, 110,  22,   0,   0,   0,   0],\n",
              "        [  0,   0,  28,  69, 106, 198, 255, 255, 255, 255, 255, 255, 255, 213, 145,  90,   3,   0,   0,   0],\n",
              "        [  0,   0,  95,  75,  86, 156, 229, 255, 255, 255, 255, 255, 246, 180, 139, 108,  24,   0,   0,   1],\n",
              "        [  0,   0, 143,  71,  69, 112, 167, 219, 249, 255, 253, 233, 190, 142, 144, 128,  35,   0,   9,  93],\n",
              "        [  0,   4, 127,  72,  61,  70, 109, 133, 157, 168, 171, 146, 124, 165, 186, 170,  44,   0,  62, 127],\n",
              "        [  0,   0,  99, 117, 116,  52,  62,  89, 112, 114, 112, 117, 107, 180, 176, 140,  44,   4,  72, 113],\n",
              "        [  0,   0,  71, 109, 100,  45,  43,  76, 102,  98,  89,  87,  79, 108, 105, 103,  28,  15,  76,  73],\n",
              "        [  0,   0,  18, 100,  63,  38,  37,  39,  51,  57,  60,  67,  82,  86,  63,  66,   2,   2,  62,  61],\n",
              "        [  0,   0,   0,  52,  80,  43,  40,  38,  49,  66,  54,  47,  64,  61,  47,  32,   0,   0,  33,  62],\n",
              "        [  0,   0,   0,   0,  41,  56,  41,  47,  60,  73,  45,  43,  61,  52,  38,   1,   0,   0,   0,  39],\n",
              "        [  0,   0,   0,   0,   0,  22,  43,  45,  53,  57,  66, 115, 104,  42,   0,   0,   0,   0,   0,   0],\n",
              "        [  0,   0,   0,   0,   0,   0,   1,   4,  22,  27,  40,  34,   4,   0,   0,   0,   0,   0,   0,   0],\n",
              "        [  0,   0,   0,   0,   0,   0,   0,   8,  18,  10,   0,   0,   0,   0,   0,   0,   0,   0,   0,   1],\n",
              "        [  0,   0,   0,   0,   0,   0,  25, 139, 189, 172,  93,   9,   0,   0,   0,   0,   0,   0,  26, 131],\n",
              "        [  0,   0,   0,   0,   0,  29,  69, 120, 205, 200, 121,  69,   0,   0,   0,   0,   0,  21,  69, 117]], dtype=torch.uint8)"
            ]
          },
          "metadata": {
            "tags": []
          },
          "execution_count": 37
        }
      ]
    },
    {
      "cell_type": "code",
      "metadata": {
        "colab": {
          "base_uri": "https://localhost:8080/",
          "height": 460
        },
        "id": "93TL53eUDbro",
        "outputId": "bd4891d7-2473-4a65-bdce-613f5fc33070"
      },
      "source": [
        "#hide_output\n",
        "im3_t = tensor(im_png)\n",
        "df = pd.DataFrame(im3_t[10:30,30:50])\n",
        "df.style.set_properties(**{'font-size':'6pt'}).background_gradient('Greys')"
      ],
      "execution_count": 38,
      "outputs": [
        {
          "output_type": "execute_result",
          "data": {
            "text/html": [
              "<style  type=\"text/css\" >\n",
              "#T_efc2475a_c2c9_11eb_8b14_0242ac1c0002row0_col0,#T_efc2475a_c2c9_11eb_8b14_0242ac1c0002row0_col1,#T_efc2475a_c2c9_11eb_8b14_0242ac1c0002row0_col2,#T_efc2475a_c2c9_11eb_8b14_0242ac1c0002row0_col3,#T_efc2475a_c2c9_11eb_8b14_0242ac1c0002row0_col4,#T_efc2475a_c2c9_11eb_8b14_0242ac1c0002row0_col5,#T_efc2475a_c2c9_11eb_8b14_0242ac1c0002row0_col6,#T_efc2475a_c2c9_11eb_8b14_0242ac1c0002row0_col7,#T_efc2475a_c2c9_11eb_8b14_0242ac1c0002row0_col8,#T_efc2475a_c2c9_11eb_8b14_0242ac1c0002row0_col9,#T_efc2475a_c2c9_11eb_8b14_0242ac1c0002row0_col10,#T_efc2475a_c2c9_11eb_8b14_0242ac1c0002row0_col11,#T_efc2475a_c2c9_11eb_8b14_0242ac1c0002row0_col12,#T_efc2475a_c2c9_11eb_8b14_0242ac1c0002row0_col13,#T_efc2475a_c2c9_11eb_8b14_0242ac1c0002row0_col14,#T_efc2475a_c2c9_11eb_8b14_0242ac1c0002row0_col15,#T_efc2475a_c2c9_11eb_8b14_0242ac1c0002row0_col16,#T_efc2475a_c2c9_11eb_8b14_0242ac1c0002row0_col17,#T_efc2475a_c2c9_11eb_8b14_0242ac1c0002row0_col18,#T_efc2475a_c2c9_11eb_8b14_0242ac1c0002row0_col19,#T_efc2475a_c2c9_11eb_8b14_0242ac1c0002row1_col0,#T_efc2475a_c2c9_11eb_8b14_0242ac1c0002row1_col1,#T_efc2475a_c2c9_11eb_8b14_0242ac1c0002row1_col2,#T_efc2475a_c2c9_11eb_8b14_0242ac1c0002row1_col3,#T_efc2475a_c2c9_11eb_8b14_0242ac1c0002row1_col4,#T_efc2475a_c2c9_11eb_8b14_0242ac1c0002row1_col5,#T_efc2475a_c2c9_11eb_8b14_0242ac1c0002row1_col6,#T_efc2475a_c2c9_11eb_8b14_0242ac1c0002row1_col7,#T_efc2475a_c2c9_11eb_8b14_0242ac1c0002row1_col8,#T_efc2475a_c2c9_11eb_8b14_0242ac1c0002row1_col9,#T_efc2475a_c2c9_11eb_8b14_0242ac1c0002row1_col10,#T_efc2475a_c2c9_11eb_8b14_0242ac1c0002row1_col11,#T_efc2475a_c2c9_11eb_8b14_0242ac1c0002row1_col12,#T_efc2475a_c2c9_11eb_8b14_0242ac1c0002row1_col13,#T_efc2475a_c2c9_11eb_8b14_0242ac1c0002row1_col14,#T_efc2475a_c2c9_11eb_8b14_0242ac1c0002row1_col15,#T_efc2475a_c2c9_11eb_8b14_0242ac1c0002row1_col16,#T_efc2475a_c2c9_11eb_8b14_0242ac1c0002row1_col17,#T_efc2475a_c2c9_11eb_8b14_0242ac1c0002row1_col18,#T_efc2475a_c2c9_11eb_8b14_0242ac1c0002row1_col19,#T_efc2475a_c2c9_11eb_8b14_0242ac1c0002row2_col0,#T_efc2475a_c2c9_11eb_8b14_0242ac1c0002row2_col1,#T_efc2475a_c2c9_11eb_8b14_0242ac1c0002row2_col2,#T_efc2475a_c2c9_11eb_8b14_0242ac1c0002row2_col3,#T_efc2475a_c2c9_11eb_8b14_0242ac1c0002row2_col4,#T_efc2475a_c2c9_11eb_8b14_0242ac1c0002row2_col5,#T_efc2475a_c2c9_11eb_8b14_0242ac1c0002row2_col12,#T_efc2475a_c2c9_11eb_8b14_0242ac1c0002row2_col13,#T_efc2475a_c2c9_11eb_8b14_0242ac1c0002row2_col14,#T_efc2475a_c2c9_11eb_8b14_0242ac1c0002row2_col15,#T_efc2475a_c2c9_11eb_8b14_0242ac1c0002row2_col16,#T_efc2475a_c2c9_11eb_8b14_0242ac1c0002row2_col17,#T_efc2475a_c2c9_11eb_8b14_0242ac1c0002row2_col18,#T_efc2475a_c2c9_11eb_8b14_0242ac1c0002row2_col19,#T_efc2475a_c2c9_11eb_8b14_0242ac1c0002row3_col0,#T_efc2475a_c2c9_11eb_8b14_0242ac1c0002row3_col1,#T_efc2475a_c2c9_11eb_8b14_0242ac1c0002row3_col2,#T_efc2475a_c2c9_11eb_8b14_0242ac1c0002row3_col3,#T_efc2475a_c2c9_11eb_8b14_0242ac1c0002row3_col14,#T_efc2475a_c2c9_11eb_8b14_0242ac1c0002row3_col15,#T_efc2475a_c2c9_11eb_8b14_0242ac1c0002row3_col16,#T_efc2475a_c2c9_11eb_8b14_0242ac1c0002row3_col17,#T_efc2475a_c2c9_11eb_8b14_0242ac1c0002row3_col18,#T_efc2475a_c2c9_11eb_8b14_0242ac1c0002row3_col19,#T_efc2475a_c2c9_11eb_8b14_0242ac1c0002row4_col0,#T_efc2475a_c2c9_11eb_8b14_0242ac1c0002row4_col1,#T_efc2475a_c2c9_11eb_8b14_0242ac1c0002row4_col2,#T_efc2475a_c2c9_11eb_8b14_0242ac1c0002row4_col15,#T_efc2475a_c2c9_11eb_8b14_0242ac1c0002row4_col16,#T_efc2475a_c2c9_11eb_8b14_0242ac1c0002row4_col17,#T_efc2475a_c2c9_11eb_8b14_0242ac1c0002row4_col18,#T_efc2475a_c2c9_11eb_8b14_0242ac1c0002row4_col19,#T_efc2475a_c2c9_11eb_8b14_0242ac1c0002row5_col0,#T_efc2475a_c2c9_11eb_8b14_0242ac1c0002row5_col1,#T_efc2475a_c2c9_11eb_8b14_0242ac1c0002row5_col2,#T_efc2475a_c2c9_11eb_8b14_0242ac1c0002row5_col16,#T_efc2475a_c2c9_11eb_8b14_0242ac1c0002row5_col17,#T_efc2475a_c2c9_11eb_8b14_0242ac1c0002row5_col18,#T_efc2475a_c2c9_11eb_8b14_0242ac1c0002row5_col19,#T_efc2475a_c2c9_11eb_8b14_0242ac1c0002row6_col0,#T_efc2475a_c2c9_11eb_8b14_0242ac1c0002row6_col1,#T_efc2475a_c2c9_11eb_8b14_0242ac1c0002row6_col17,#T_efc2475a_c2c9_11eb_8b14_0242ac1c0002row6_col18,#T_efc2475a_c2c9_11eb_8b14_0242ac1c0002row6_col19,#T_efc2475a_c2c9_11eb_8b14_0242ac1c0002row7_col0,#T_efc2475a_c2c9_11eb_8b14_0242ac1c0002row7_col1,#T_efc2475a_c2c9_11eb_8b14_0242ac1c0002row7_col17,#T_efc2475a_c2c9_11eb_8b14_0242ac1c0002row7_col18,#T_efc2475a_c2c9_11eb_8b14_0242ac1c0002row7_col19,#T_efc2475a_c2c9_11eb_8b14_0242ac1c0002row8_col0,#T_efc2475a_c2c9_11eb_8b14_0242ac1c0002row8_col1,#T_efc2475a_c2c9_11eb_8b14_0242ac1c0002row8_col17,#T_efc2475a_c2c9_11eb_8b14_0242ac1c0002row9_col0,#T_efc2475a_c2c9_11eb_8b14_0242ac1c0002row9_col17,#T_efc2475a_c2c9_11eb_8b14_0242ac1c0002row10_col0,#T_efc2475a_c2c9_11eb_8b14_0242ac1c0002row10_col1,#T_efc2475a_c2c9_11eb_8b14_0242ac1c0002row11_col0,#T_efc2475a_c2c9_11eb_8b14_0242ac1c0002row11_col1,#T_efc2475a_c2c9_11eb_8b14_0242ac1c0002row12_col0,#T_efc2475a_c2c9_11eb_8b14_0242ac1c0002row12_col1,#T_efc2475a_c2c9_11eb_8b14_0242ac1c0002row13_col0,#T_efc2475a_c2c9_11eb_8b14_0242ac1c0002row13_col1,#T_efc2475a_c2c9_11eb_8b14_0242ac1c0002row13_col2,#T_efc2475a_c2c9_11eb_8b14_0242ac1c0002row13_col16,#T_efc2475a_c2c9_11eb_8b14_0242ac1c0002row13_col17,#T_efc2475a_c2c9_11eb_8b14_0242ac1c0002row14_col0,#T_efc2475a_c2c9_11eb_8b14_0242ac1c0002row14_col1,#T_efc2475a_c2c9_11eb_8b14_0242ac1c0002row14_col2,#T_efc2475a_c2c9_11eb_8b14_0242ac1c0002row14_col3,#T_efc2475a_c2c9_11eb_8b14_0242ac1c0002row14_col15,#T_efc2475a_c2c9_11eb_8b14_0242ac1c0002row14_col16,#T_efc2475a_c2c9_11eb_8b14_0242ac1c0002row14_col17,#T_efc2475a_c2c9_11eb_8b14_0242ac1c0002row14_col18,#T_efc2475a_c2c9_11eb_8b14_0242ac1c0002row15_col0,#T_efc2475a_c2c9_11eb_8b14_0242ac1c0002row15_col1,#T_efc2475a_c2c9_11eb_8b14_0242ac1c0002row15_col2,#T_efc2475a_c2c9_11eb_8b14_0242ac1c0002row15_col3,#T_efc2475a_c2c9_11eb_8b14_0242ac1c0002row15_col4,#T_efc2475a_c2c9_11eb_8b14_0242ac1c0002row15_col14,#T_efc2475a_c2c9_11eb_8b14_0242ac1c0002row15_col15,#T_efc2475a_c2c9_11eb_8b14_0242ac1c0002row15_col16,#T_efc2475a_c2c9_11eb_8b14_0242ac1c0002row15_col17,#T_efc2475a_c2c9_11eb_8b14_0242ac1c0002row15_col18,#T_efc2475a_c2c9_11eb_8b14_0242ac1c0002row15_col19,#T_efc2475a_c2c9_11eb_8b14_0242ac1c0002row16_col0,#T_efc2475a_c2c9_11eb_8b14_0242ac1c0002row16_col1,#T_efc2475a_c2c9_11eb_8b14_0242ac1c0002row16_col2,#T_efc2475a_c2c9_11eb_8b14_0242ac1c0002row16_col3,#T_efc2475a_c2c9_11eb_8b14_0242ac1c0002row16_col4,#T_efc2475a_c2c9_11eb_8b14_0242ac1c0002row16_col5,#T_efc2475a_c2c9_11eb_8b14_0242ac1c0002row16_col6,#T_efc2475a_c2c9_11eb_8b14_0242ac1c0002row16_col13,#T_efc2475a_c2c9_11eb_8b14_0242ac1c0002row16_col14,#T_efc2475a_c2c9_11eb_8b14_0242ac1c0002row16_col15,#T_efc2475a_c2c9_11eb_8b14_0242ac1c0002row16_col16,#T_efc2475a_c2c9_11eb_8b14_0242ac1c0002row16_col17,#T_efc2475a_c2c9_11eb_8b14_0242ac1c0002row16_col18,#T_efc2475a_c2c9_11eb_8b14_0242ac1c0002row16_col19,#T_efc2475a_c2c9_11eb_8b14_0242ac1c0002row17_col0,#T_efc2475a_c2c9_11eb_8b14_0242ac1c0002row17_col1,#T_efc2475a_c2c9_11eb_8b14_0242ac1c0002row17_col2,#T_efc2475a_c2c9_11eb_8b14_0242ac1c0002row17_col3,#T_efc2475a_c2c9_11eb_8b14_0242ac1c0002row17_col4,#T_efc2475a_c2c9_11eb_8b14_0242ac1c0002row17_col5,#T_efc2475a_c2c9_11eb_8b14_0242ac1c0002row17_col6,#T_efc2475a_c2c9_11eb_8b14_0242ac1c0002row17_col10,#T_efc2475a_c2c9_11eb_8b14_0242ac1c0002row17_col11,#T_efc2475a_c2c9_11eb_8b14_0242ac1c0002row17_col12,#T_efc2475a_c2c9_11eb_8b14_0242ac1c0002row17_col13,#T_efc2475a_c2c9_11eb_8b14_0242ac1c0002row17_col14,#T_efc2475a_c2c9_11eb_8b14_0242ac1c0002row17_col15,#T_efc2475a_c2c9_11eb_8b14_0242ac1c0002row17_col16,#T_efc2475a_c2c9_11eb_8b14_0242ac1c0002row17_col17,#T_efc2475a_c2c9_11eb_8b14_0242ac1c0002row17_col18,#T_efc2475a_c2c9_11eb_8b14_0242ac1c0002row17_col19,#T_efc2475a_c2c9_11eb_8b14_0242ac1c0002row18_col0,#T_efc2475a_c2c9_11eb_8b14_0242ac1c0002row18_col1,#T_efc2475a_c2c9_11eb_8b14_0242ac1c0002row18_col2,#T_efc2475a_c2c9_11eb_8b14_0242ac1c0002row18_col3,#T_efc2475a_c2c9_11eb_8b14_0242ac1c0002row18_col4,#T_efc2475a_c2c9_11eb_8b14_0242ac1c0002row18_col5,#T_efc2475a_c2c9_11eb_8b14_0242ac1c0002row18_col12,#T_efc2475a_c2c9_11eb_8b14_0242ac1c0002row18_col13,#T_efc2475a_c2c9_11eb_8b14_0242ac1c0002row18_col14,#T_efc2475a_c2c9_11eb_8b14_0242ac1c0002row18_col15,#T_efc2475a_c2c9_11eb_8b14_0242ac1c0002row18_col16,#T_efc2475a_c2c9_11eb_8b14_0242ac1c0002row18_col17,#T_efc2475a_c2c9_11eb_8b14_0242ac1c0002row19_col0,#T_efc2475a_c2c9_11eb_8b14_0242ac1c0002row19_col1,#T_efc2475a_c2c9_11eb_8b14_0242ac1c0002row19_col2,#T_efc2475a_c2c9_11eb_8b14_0242ac1c0002row19_col3,#T_efc2475a_c2c9_11eb_8b14_0242ac1c0002row19_col4,#T_efc2475a_c2c9_11eb_8b14_0242ac1c0002row19_col12,#T_efc2475a_c2c9_11eb_8b14_0242ac1c0002row19_col13,#T_efc2475a_c2c9_11eb_8b14_0242ac1c0002row19_col14,#T_efc2475a_c2c9_11eb_8b14_0242ac1c0002row19_col15,#T_efc2475a_c2c9_11eb_8b14_0242ac1c0002row19_col16{\n",
              "            font-size:  6pt;\n",
              "            background-color:  #ffffff;\n",
              "            color:  #000000;\n",
              "        }#T_efc2475a_c2c9_11eb_8b14_0242ac1c0002row2_col6,#T_efc2475a_c2c9_11eb_8b14_0242ac1c0002row15_col5,#T_efc2475a_c2c9_11eb_8b14_0242ac1c0002row16_col9{\n",
              "            font-size:  6pt;\n",
              "            background-color:  #f2f2f2;\n",
              "            color:  #000000;\n",
              "        }#T_efc2475a_c2c9_11eb_8b14_0242ac1c0002row2_col7{\n",
              "            font-size:  6pt;\n",
              "            background-color:  #bdbdbd;\n",
              "            color:  #000000;\n",
              "        }#T_efc2475a_c2c9_11eb_8b14_0242ac1c0002row2_col8,#T_efc2475a_c2c9_11eb_8b14_0242ac1c0002row2_col9{\n",
              "            font-size:  6pt;\n",
              "            background-color:  #818181;\n",
              "            color:  #000000;\n",
              "        }#T_efc2475a_c2c9_11eb_8b14_0242ac1c0002row2_col10,#T_efc2475a_c2c9_11eb_8b14_0242ac1c0002row10_col12{\n",
              "            font-size:  6pt;\n",
              "            background-color:  #afafaf;\n",
              "            color:  #000000;\n",
              "        }#T_efc2475a_c2c9_11eb_8b14_0242ac1c0002row2_col11,#T_efc2475a_c2c9_11eb_8b14_0242ac1c0002row10_col17,#T_efc2475a_c2c9_11eb_8b14_0242ac1c0002row13_col8,#T_efc2475a_c2c9_11eb_8b14_0242ac1c0002row13_col15{\n",
              "            font-size:  6pt;\n",
              "            background-color:  #e4e4e4;\n",
              "            color:  #000000;\n",
              "        }#T_efc2475a_c2c9_11eb_8b14_0242ac1c0002row3_col4,#T_efc2475a_c2c9_11eb_8b14_0242ac1c0002row12_col16,#T_efc2475a_c2c9_11eb_8b14_0242ac1c0002row17_col9{\n",
              "            font-size:  6pt;\n",
              "            background-color:  #fafafa;\n",
              "            color:  #000000;\n",
              "        }#T_efc2475a_c2c9_11eb_8b14_0242ac1c0002row3_col5{\n",
              "            font-size:  6pt;\n",
              "            background-color:  #b8b8b8;\n",
              "            color:  #000000;\n",
              "        }#T_efc2475a_c2c9_11eb_8b14_0242ac1c0002row3_col6{\n",
              "            font-size:  6pt;\n",
              "            background-color:  #4b4b4b;\n",
              "            color:  #f1f1f1;\n",
              "        }#T_efc2475a_c2c9_11eb_8b14_0242ac1c0002row3_col7,#T_efc2475a_c2c9_11eb_8b14_0242ac1c0002row3_col8,#T_efc2475a_c2c9_11eb_8b14_0242ac1c0002row3_col9,#T_efc2475a_c2c9_11eb_8b14_0242ac1c0002row3_col10,#T_efc2475a_c2c9_11eb_8b14_0242ac1c0002row4_col6,#T_efc2475a_c2c9_11eb_8b14_0242ac1c0002row4_col7,#T_efc2475a_c2c9_11eb_8b14_0242ac1c0002row4_col8,#T_efc2475a_c2c9_11eb_8b14_0242ac1c0002row4_col9,#T_efc2475a_c2c9_11eb_8b14_0242ac1c0002row4_col10,#T_efc2475a_c2c9_11eb_8b14_0242ac1c0002row4_col11,#T_efc2475a_c2c9_11eb_8b14_0242ac1c0002row5_col5,#T_efc2475a_c2c9_11eb_8b14_0242ac1c0002row5_col6,#T_efc2475a_c2c9_11eb_8b14_0242ac1c0002row5_col7,#T_efc2475a_c2c9_11eb_8b14_0242ac1c0002row5_col8,#T_efc2475a_c2c9_11eb_8b14_0242ac1c0002row5_col9,#T_efc2475a_c2c9_11eb_8b14_0242ac1c0002row5_col10,#T_efc2475a_c2c9_11eb_8b14_0242ac1c0002row5_col11,#T_efc2475a_c2c9_11eb_8b14_0242ac1c0002row5_col12,#T_efc2475a_c2c9_11eb_8b14_0242ac1c0002row6_col6,#T_efc2475a_c2c9_11eb_8b14_0242ac1c0002row6_col7,#T_efc2475a_c2c9_11eb_8b14_0242ac1c0002row6_col8,#T_efc2475a_c2c9_11eb_8b14_0242ac1c0002row6_col9,#T_efc2475a_c2c9_11eb_8b14_0242ac1c0002row6_col10,#T_efc2475a_c2c9_11eb_8b14_0242ac1c0002row6_col11,#T_efc2475a_c2c9_11eb_8b14_0242ac1c0002row6_col12,#T_efc2475a_c2c9_11eb_8b14_0242ac1c0002row6_col13,#T_efc2475a_c2c9_11eb_8b14_0242ac1c0002row7_col7,#T_efc2475a_c2c9_11eb_8b14_0242ac1c0002row7_col8,#T_efc2475a_c2c9_11eb_8b14_0242ac1c0002row7_col9,#T_efc2475a_c2c9_11eb_8b14_0242ac1c0002row7_col10,#T_efc2475a_c2c9_11eb_8b14_0242ac1c0002row7_col11,#T_efc2475a_c2c9_11eb_8b14_0242ac1c0002row8_col2,#T_efc2475a_c2c9_11eb_8b14_0242ac1c0002row8_col9,#T_efc2475a_c2c9_11eb_8b14_0242ac1c0002row9_col1,#T_efc2475a_c2c9_11eb_8b14_0242ac1c0002row9_col14,#T_efc2475a_c2c9_11eb_8b14_0242ac1c0002row9_col15,#T_efc2475a_c2c9_11eb_8b14_0242ac1c0002row9_col16,#T_efc2475a_c2c9_11eb_8b14_0242ac1c0002row10_col3,#T_efc2475a_c2c9_11eb_8b14_0242ac1c0002row10_col4,#T_efc2475a_c2c9_11eb_8b14_0242ac1c0002row10_col16,#T_efc2475a_c2c9_11eb_8b14_0242ac1c0002row11_col18,#T_efc2475a_c2c9_11eb_8b14_0242ac1c0002row18_col19,#T_efc2475a_c2c9_11eb_8b14_0242ac1c0002row19_col17{\n",
              "            font-size:  6pt;\n",
              "            background-color:  #000000;\n",
              "            color:  #f1f1f1;\n",
              "        }#T_efc2475a_c2c9_11eb_8b14_0242ac1c0002row3_col11{\n",
              "            font-size:  6pt;\n",
              "            background-color:  #131313;\n",
              "            color:  #f1f1f1;\n",
              "        }#T_efc2475a_c2c9_11eb_8b14_0242ac1c0002row3_col12{\n",
              "            font-size:  6pt;\n",
              "            background-color:  #878787;\n",
              "            color:  #000000;\n",
              "        }#T_efc2475a_c2c9_11eb_8b14_0242ac1c0002row3_col13,#T_efc2475a_c2c9_11eb_8b14_0242ac1c0002row8_col18{\n",
              "            font-size:  6pt;\n",
              "            background-color:  #f1f1f1;\n",
              "            color:  #000000;\n",
              "        }#T_efc2475a_c2c9_11eb_8b14_0242ac1c0002row4_col3,#T_efc2475a_c2c9_11eb_8b14_0242ac1c0002row6_col16,#T_efc2475a_c2c9_11eb_8b14_0242ac1c0002row17_col8{\n",
              "            font-size:  6pt;\n",
              "            background-color:  #f7f7f7;\n",
              "            color:  #000000;\n",
              "        }#T_efc2475a_c2c9_11eb_8b14_0242ac1c0002row4_col4,#T_efc2475a_c2c9_11eb_8b14_0242ac1c0002row8_col6{\n",
              "            font-size:  6pt;\n",
              "            background-color:  #6b6b6b;\n",
              "            color:  #000000;\n",
              "        }#T_efc2475a_c2c9_11eb_8b14_0242ac1c0002row4_col5,#T_efc2475a_c2c9_11eb_8b14_0242ac1c0002row8_col7{\n",
              "            font-size:  6pt;\n",
              "            background-color:  #2b2b2b;\n",
              "            color:  #f1f1f1;\n",
              "        }#T_efc2475a_c2c9_11eb_8b14_0242ac1c0002row4_col12{\n",
              "            font-size:  6pt;\n",
              "            background-color:  #050505;\n",
              "            color:  #f1f1f1;\n",
              "        }#T_efc2475a_c2c9_11eb_8b14_0242ac1c0002row4_col13,#T_efc2475a_c2c9_11eb_8b14_0242ac1c0002row7_col2,#T_efc2475a_c2c9_11eb_8b14_0242ac1c0002row8_col13{\n",
              "            font-size:  6pt;\n",
              "            background-color:  #686868;\n",
              "            color:  #f1f1f1;\n",
              "        }#T_efc2475a_c2c9_11eb_8b14_0242ac1c0002row4_col14,#T_efc2475a_c2c9_11eb_8b14_0242ac1c0002row14_col10,#T_efc2475a_c2c9_11eb_8b14_0242ac1c0002row15_col7{\n",
              "            font-size:  6pt;\n",
              "            background-color:  #e7e7e7;\n",
              "            color:  #000000;\n",
              "        }#T_efc2475a_c2c9_11eb_8b14_0242ac1c0002row5_col3,#T_efc2475a_c2c9_11eb_8b14_0242ac1c0002row13_col18{\n",
              "            font-size:  6pt;\n",
              "            background-color:  #aaaaaa;\n",
              "            color:  #000000;\n",
              "        }#T_efc2475a_c2c9_11eb_8b14_0242ac1c0002row5_col4,#T_efc2475a_c2c9_11eb_8b14_0242ac1c0002row6_col4,#T_efc2475a_c2c9_11eb_8b14_0242ac1c0002row8_col11{\n",
              "            font-size:  6pt;\n",
              "            background-color:  #1a1a1a;\n",
              "            color:  #f1f1f1;\n",
              "        }#T_efc2475a_c2c9_11eb_8b14_0242ac1c0002row5_col13,#T_efc2475a_c2c9_11eb_8b14_0242ac1c0002row6_col5,#T_efc2475a_c2c9_11eb_8b14_0242ac1c0002row7_col12{\n",
              "            font-size:  6pt;\n",
              "            background-color:  #0a0a0a;\n",
              "            color:  #f1f1f1;\n",
              "        }#T_efc2475a_c2c9_11eb_8b14_0242ac1c0002row5_col14{\n",
              "            font-size:  6pt;\n",
              "            background-color:  #7c7c7c;\n",
              "            color:  #000000;\n",
              "        }#T_efc2475a_c2c9_11eb_8b14_0242ac1c0002row5_col15{\n",
              "            font-size:  6pt;\n",
              "            background-color:  #efefef;\n",
              "            color:  #000000;\n",
              "        }#T_efc2475a_c2c9_11eb_8b14_0242ac1c0002row6_col2,#T_efc2475a_c2c9_11eb_8b14_0242ac1c0002row15_col13{\n",
              "            font-size:  6pt;\n",
              "            background-color:  #e3e3e3;\n",
              "            color:  #000000;\n",
              "        }#T_efc2475a_c2c9_11eb_8b14_0242ac1c0002row6_col3{\n",
              "            font-size:  6pt;\n",
              "            background-color:  #7d7d7d;\n",
              "            color:  #000000;\n",
              "        }#T_efc2475a_c2c9_11eb_8b14_0242ac1c0002row6_col14{\n",
              "            font-size:  6pt;\n",
              "            background-color:  #474747;\n",
              "            color:  #f1f1f1;\n",
              "        }#T_efc2475a_c2c9_11eb_8b14_0242ac1c0002row6_col15{\n",
              "            font-size:  6pt;\n",
              "            background-color:  #8e8e8e;\n",
              "            color:  #000000;\n",
              "        }#T_efc2475a_c2c9_11eb_8b14_0242ac1c0002row7_col3{\n",
              "            font-size:  6pt;\n",
              "            background-color:  #6e6e6e;\n",
              "            color:  #000000;\n",
              "        }#T_efc2475a_c2c9_11eb_8b14_0242ac1c0002row7_col4,#T_efc2475a_c2c9_11eb_8b14_0242ac1c0002row18_col8{\n",
              "            font-size:  6pt;\n",
              "            background-color:  #545454;\n",
              "            color:  #f1f1f1;\n",
              "        }#T_efc2475a_c2c9_11eb_8b14_0242ac1c0002row7_col5{\n",
              "            font-size:  6pt;\n",
              "            background-color:  #505050;\n",
              "            color:  #f1f1f1;\n",
              "        }#T_efc2475a_c2c9_11eb_8b14_0242ac1c0002row7_col6{\n",
              "            font-size:  6pt;\n",
              "            background-color:  #1e1e1e;\n",
              "            color:  #f1f1f1;\n",
              "        }#T_efc2475a_c2c9_11eb_8b14_0242ac1c0002row7_col13,#T_efc2475a_c2c9_11eb_8b14_0242ac1c0002row10_col13{\n",
              "            font-size:  6pt;\n",
              "            background-color:  #2f2f2f;\n",
              "            color:  #f1f1f1;\n",
              "        }#T_efc2475a_c2c9_11eb_8b14_0242ac1c0002row7_col14{\n",
              "            font-size:  6pt;\n",
              "            background-color:  #525252;\n",
              "            color:  #f1f1f1;\n",
              "        }#T_efc2475a_c2c9_11eb_8b14_0242ac1c0002row7_col15,#T_efc2475a_c2c9_11eb_8b14_0242ac1c0002row11_col16{\n",
              "            font-size:  6pt;\n",
              "            background-color:  #707070;\n",
              "            color:  #000000;\n",
              "        }#T_efc2475a_c2c9_11eb_8b14_0242ac1c0002row7_col16,#T_efc2475a_c2c9_11eb_8b14_0242ac1c0002row8_col5,#T_efc2475a_c2c9_11eb_8b14_0242ac1c0002row12_col4,#T_efc2475a_c2c9_11eb_8b14_0242ac1c0002row18_col7{\n",
              "            font-size:  6pt;\n",
              "            background-color:  #898989;\n",
              "            color:  #000000;\n",
              "        }#T_efc2475a_c2c9_11eb_8b14_0242ac1c0002row8_col3,#T_efc2475a_c2c9_11eb_8b14_0242ac1c0002row11_col15{\n",
              "            font-size:  6pt;\n",
              "            background-color:  #787878;\n",
              "            color:  #000000;\n",
              "        }#T_efc2475a_c2c9_11eb_8b14_0242ac1c0002row8_col4{\n",
              "            font-size:  6pt;\n",
              "            background-color:  #7b7b7b;\n",
              "            color:  #000000;\n",
              "        }#T_efc2475a_c2c9_11eb_8b14_0242ac1c0002row8_col8{\n",
              "            font-size:  6pt;\n",
              "            background-color:  #070707;\n",
              "            color:  #f1f1f1;\n",
              "        }#T_efc2475a_c2c9_11eb_8b14_0242ac1c0002row8_col10{\n",
              "            font-size:  6pt;\n",
              "            background-color:  #020202;\n",
              "            color:  #f1f1f1;\n",
              "        }#T_efc2475a_c2c9_11eb_8b14_0242ac1c0002row8_col12{\n",
              "            font-size:  6pt;\n",
              "            background-color:  #535353;\n",
              "            color:  #f1f1f1;\n",
              "        }#T_efc2475a_c2c9_11eb_8b14_0242ac1c0002row8_col14,#T_efc2475a_c2c9_11eb_8b14_0242ac1c0002row9_col13{\n",
              "            font-size:  6pt;\n",
              "            background-color:  #484848;\n",
              "            color:  #f1f1f1;\n",
              "        }#T_efc2475a_c2c9_11eb_8b14_0242ac1c0002row8_col15{\n",
              "            font-size:  6pt;\n",
              "            background-color:  #515151;\n",
              "            color:  #f1f1f1;\n",
              "        }#T_efc2475a_c2c9_11eb_8b14_0242ac1c0002row8_col16{\n",
              "            font-size:  6pt;\n",
              "            background-color:  #414141;\n",
              "            color:  #f1f1f1;\n",
              "        }#T_efc2475a_c2c9_11eb_8b14_0242ac1c0002row8_col19{\n",
              "            font-size:  6pt;\n",
              "            background-color:  #5d5d5d;\n",
              "            color:  #f1f1f1;\n",
              "        }#T_efc2475a_c2c9_11eb_8b14_0242ac1c0002row9_col2{\n",
              "            font-size:  6pt;\n",
              "            background-color:  #212121;\n",
              "            color:  #f1f1f1;\n",
              "        }#T_efc2475a_c2c9_11eb_8b14_0242ac1c0002row9_col3,#T_efc2475a_c2c9_11eb_8b14_0242ac1c0002row9_col8{\n",
              "            font-size:  6pt;\n",
              "            background-color:  #767676;\n",
              "            color:  #000000;\n",
              "        }#T_efc2475a_c2c9_11eb_8b14_0242ac1c0002row9_col4{\n",
              "            font-size:  6pt;\n",
              "            background-color:  #8f8f8f;\n",
              "            color:  #000000;\n",
              "        }#T_efc2475a_c2c9_11eb_8b14_0242ac1c0002row9_col5,#T_efc2475a_c2c9_11eb_8b14_0242ac1c0002row11_col11,#T_efc2475a_c2c9_11eb_8b14_0242ac1c0002row12_col14,#T_efc2475a_c2c9_11eb_8b14_0242ac1c0002row18_col18{\n",
              "            font-size:  6pt;\n",
              "            background-color:  #c5c5c5;\n",
              "            color:  #000000;\n",
              "        }#T_efc2475a_c2c9_11eb_8b14_0242ac1c0002row9_col6{\n",
              "            font-size:  6pt;\n",
              "            background-color:  #adadad;\n",
              "            color:  #000000;\n",
              "        }#T_efc2475a_c2c9_11eb_8b14_0242ac1c0002row9_col7{\n",
              "            font-size:  6pt;\n",
              "            background-color:  #909090;\n",
              "            color:  #000000;\n",
              "        }#T_efc2475a_c2c9_11eb_8b14_0242ac1c0002row9_col9{\n",
              "            font-size:  6pt;\n",
              "            background-color:  #6a6a6a;\n",
              "            color:  #000000;\n",
              "        }#T_efc2475a_c2c9_11eb_8b14_0242ac1c0002row9_col10{\n",
              "            font-size:  6pt;\n",
              "            background-color:  #676767;\n",
              "            color:  #f1f1f1;\n",
              "        }#T_efc2475a_c2c9_11eb_8b14_0242ac1c0002row9_col11{\n",
              "            font-size:  6pt;\n",
              "            background-color:  #828282;\n",
              "            color:  #000000;\n",
              "        }#T_efc2475a_c2c9_11eb_8b14_0242ac1c0002row9_col12{\n",
              "            font-size:  6pt;\n",
              "            background-color:  #9a9a9a;\n",
              "            color:  #000000;\n",
              "        }#T_efc2475a_c2c9_11eb_8b14_0242ac1c0002row9_col18,#T_efc2475a_c2c9_11eb_8b14_0242ac1c0002row12_col18{\n",
              "            font-size:  6pt;\n",
              "            background-color:  #3a3a3a;\n",
              "            color:  #f1f1f1;\n",
              "        }#T_efc2475a_c2c9_11eb_8b14_0242ac1c0002row9_col19{\n",
              "            font-size:  6pt;\n",
              "            background-color:  #080808;\n",
              "            color:  #f1f1f1;\n",
              "        }#T_efc2475a_c2c9_11eb_8b14_0242ac1c0002row10_col2{\n",
              "            font-size:  6pt;\n",
              "            background-color:  #616161;\n",
              "            color:  #f1f1f1;\n",
              "        }#T_efc2475a_c2c9_11eb_8b14_0242ac1c0002row10_col5,#T_efc2475a_c2c9_11eb_8b14_0242ac1c0002row13_col12,#T_efc2475a_c2c9_11eb_8b14_0242ac1c0002row13_col14{\n",
              "            font-size:  6pt;\n",
              "            background-color:  #d9d9d9;\n",
              "            color:  #000000;\n",
              "        }#T_efc2475a_c2c9_11eb_8b14_0242ac1c0002row10_col6,#T_efc2475a_c2c9_11eb_8b14_0242ac1c0002row14_col13{\n",
              "            font-size:  6pt;\n",
              "            background-color:  #dadada;\n",
              "            color:  #000000;\n",
              "        }#T_efc2475a_c2c9_11eb_8b14_0242ac1c0002row10_col7,#T_efc2475a_c2c9_11eb_8b14_0242ac1c0002row11_col10{\n",
              "            font-size:  6pt;\n",
              "            background-color:  #c3c3c3;\n",
              "            color:  #000000;\n",
              "        }#T_efc2475a_c2c9_11eb_8b14_0242ac1c0002row10_col8,#T_efc2475a_c2c9_11eb_8b14_0242ac1c0002row10_col10{\n",
              "            font-size:  6pt;\n",
              "            background-color:  #a9a9a9;\n",
              "            color:  #000000;\n",
              "        }#T_efc2475a_c2c9_11eb_8b14_0242ac1c0002row10_col9{\n",
              "            font-size:  6pt;\n",
              "            background-color:  #a7a7a7;\n",
              "            color:  #000000;\n",
              "        }#T_efc2475a_c2c9_11eb_8b14_0242ac1c0002row10_col11{\n",
              "            font-size:  6pt;\n",
              "            background-color:  #a3a3a3;\n",
              "            color:  #000000;\n",
              "        }#T_efc2475a_c2c9_11eb_8b14_0242ac1c0002row10_col14,#T_efc2475a_c2c9_11eb_8b14_0242ac1c0002row10_col18{\n",
              "            font-size:  6pt;\n",
              "            background-color:  #0f0f0f;\n",
              "            color:  #f1f1f1;\n",
              "        }#T_efc2475a_c2c9_11eb_8b14_0242ac1c0002row10_col15{\n",
              "            font-size:  6pt;\n",
              "            background-color:  #383838;\n",
              "            color:  #f1f1f1;\n",
              "        }#T_efc2475a_c2c9_11eb_8b14_0242ac1c0002row10_col19,#T_efc2475a_c2c9_11eb_8b14_0242ac1c0002row11_col4{\n",
              "            font-size:  6pt;\n",
              "            background-color:  #292929;\n",
              "            color:  #f1f1f1;\n",
              "        }#T_efc2475a_c2c9_11eb_8b14_0242ac1c0002row11_col2{\n",
              "            font-size:  6pt;\n",
              "            background-color:  #979797;\n",
              "            color:  #000000;\n",
              "        }#T_efc2475a_c2c9_11eb_8b14_0242ac1c0002row11_col3{\n",
              "            font-size:  6pt;\n",
              "            background-color:  #141414;\n",
              "            color:  #f1f1f1;\n",
              "        }#T_efc2475a_c2c9_11eb_8b14_0242ac1c0002row11_col5{\n",
              "            font-size:  6pt;\n",
              "            background-color:  #dfdfdf;\n",
              "            color:  #000000;\n",
              "        }#T_efc2475a_c2c9_11eb_8b14_0242ac1c0002row11_col6,#T_efc2475a_c2c9_11eb_8b14_0242ac1c0002row14_col11,#T_efc2475a_c2c9_11eb_8b14_0242ac1c0002row15_col6{\n",
              "            font-size:  6pt;\n",
              "            background-color:  #e8e8e8;\n",
              "            color:  #000000;\n",
              "        }#T_efc2475a_c2c9_11eb_8b14_0242ac1c0002row11_col7,#T_efc2475a_c2c9_11eb_8b14_0242ac1c0002row14_col19{\n",
              "            font-size:  6pt;\n",
              "            background-color:  #cecece;\n",
              "            color:  #000000;\n",
              "        }#T_efc2475a_c2c9_11eb_8b14_0242ac1c0002row11_col8{\n",
              "            font-size:  6pt;\n",
              "            background-color:  #b5b5b5;\n",
              "            color:  #000000;\n",
              "        }#T_efc2475a_c2c9_11eb_8b14_0242ac1c0002row11_col9{\n",
              "            font-size:  6pt;\n",
              "            background-color:  #bababa;\n",
              "            color:  #000000;\n",
              "        }#T_efc2475a_c2c9_11eb_8b14_0242ac1c0002row11_col12{\n",
              "            font-size:  6pt;\n",
              "            background-color:  #cccccc;\n",
              "            color:  #000000;\n",
              "        }#T_efc2475a_c2c9_11eb_8b14_0242ac1c0002row11_col13{\n",
              "            font-size:  6pt;\n",
              "            background-color:  #949494;\n",
              "            color:  #000000;\n",
              "        }#T_efc2475a_c2c9_11eb_8b14_0242ac1c0002row11_col14{\n",
              "            font-size:  6pt;\n",
              "            background-color:  #848484;\n",
              "            color:  #000000;\n",
              "        }#T_efc2475a_c2c9_11eb_8b14_0242ac1c0002row11_col17{\n",
              "            font-size:  6pt;\n",
              "            background-color:  #5c5c5c;\n",
              "            color:  #f1f1f1;\n",
              "        }#T_efc2475a_c2c9_11eb_8b14_0242ac1c0002row11_col19{\n",
              "            font-size:  6pt;\n",
              "            background-color:  #868686;\n",
              "            color:  #000000;\n",
              "        }#T_efc2475a_c2c9_11eb_8b14_0242ac1c0002row12_col2{\n",
              "            font-size:  6pt;\n",
              "            background-color:  #f0f0f0;\n",
              "            color:  #000000;\n",
              "        }#T_efc2475a_c2c9_11eb_8b14_0242ac1c0002row12_col3{\n",
              "            font-size:  6pt;\n",
              "            background-color:  #2c2c2c;\n",
              "            color:  #f1f1f1;\n",
              "        }#T_efc2475a_c2c9_11eb_8b14_0242ac1c0002row12_col5,#T_efc2475a_c2c9_11eb_8b14_0242ac1c0002row13_col11,#T_efc2475a_c2c9_11eb_8b14_0242ac1c0002row14_col7{\n",
              "            font-size:  6pt;\n",
              "            background-color:  #e5e5e5;\n",
              "            color:  #000000;\n",
              "        }#T_efc2475a_c2c9_11eb_8b14_0242ac1c0002row12_col6,#T_efc2475a_c2c9_11eb_8b14_0242ac1c0002row13_col7{\n",
              "            font-size:  6pt;\n",
              "            background-color:  #ececec;\n",
              "            color:  #000000;\n",
              "        }#T_efc2475a_c2c9_11eb_8b14_0242ac1c0002row12_col7{\n",
              "            font-size:  6pt;\n",
              "            background-color:  #ebebeb;\n",
              "            color:  #000000;\n",
              "        }#T_efc2475a_c2c9_11eb_8b14_0242ac1c0002row12_col8{\n",
              "            font-size:  6pt;\n",
              "            background-color:  #e2e2e2;\n",
              "            color:  #000000;\n",
              "        }#T_efc2475a_c2c9_11eb_8b14_0242ac1c0002row12_col9,#T_efc2475a_c2c9_11eb_8b14_0242ac1c0002row15_col9{\n",
              "            font-size:  6pt;\n",
              "            background-color:  #dedede;\n",
              "            color:  #000000;\n",
              "        }#T_efc2475a_c2c9_11eb_8b14_0242ac1c0002row12_col10,#T_efc2475a_c2c9_11eb_8b14_0242ac1c0002row14_col8{\n",
              "            font-size:  6pt;\n",
              "            background-color:  #dcdcdc;\n",
              "            color:  #000000;\n",
              "        }#T_efc2475a_c2c9_11eb_8b14_0242ac1c0002row12_col11{\n",
              "            font-size:  6pt;\n",
              "            background-color:  #d6d6d6;\n",
              "            color:  #000000;\n",
              "        }#T_efc2475a_c2c9_11eb_8b14_0242ac1c0002row12_col12{\n",
              "            font-size:  6pt;\n",
              "            background-color:  #c9c9c9;\n",
              "            color:  #000000;\n",
              "        }#T_efc2475a_c2c9_11eb_8b14_0242ac1c0002row12_col13{\n",
              "            font-size:  6pt;\n",
              "            background-color:  #b4b4b4;\n",
              "            color:  #000000;\n",
              "        }#T_efc2475a_c2c9_11eb_8b14_0242ac1c0002row12_col15{\n",
              "            font-size:  6pt;\n",
              "            background-color:  #b9b9b9;\n",
              "            color:  #000000;\n",
              "        }#T_efc2475a_c2c9_11eb_8b14_0242ac1c0002row12_col17{\n",
              "            font-size:  6pt;\n",
              "            background-color:  #f4f4f4;\n",
              "            color:  #000000;\n",
              "        }#T_efc2475a_c2c9_11eb_8b14_0242ac1c0002row12_col19{\n",
              "            font-size:  6pt;\n",
              "            background-color:  #a0a0a0;\n",
              "            color:  #000000;\n",
              "        }#T_efc2475a_c2c9_11eb_8b14_0242ac1c0002row13_col3{\n",
              "            font-size:  6pt;\n",
              "            background-color:  #a8a8a8;\n",
              "            color:  #000000;\n",
              "        }#T_efc2475a_c2c9_11eb_8b14_0242ac1c0002row13_col4{\n",
              "            font-size:  6pt;\n",
              "            background-color:  #626262;\n",
              "            color:  #f1f1f1;\n",
              "        }#T_efc2475a_c2c9_11eb_8b14_0242ac1c0002row13_col5,#T_efc2475a_c2c9_11eb_8b14_0242ac1c0002row14_col14,#T_efc2475a_c2c9_11eb_8b14_0242ac1c0002row15_col8{\n",
              "            font-size:  6pt;\n",
              "            background-color:  #e1e1e1;\n",
              "            color:  #000000;\n",
              "        }#T_efc2475a_c2c9_11eb_8b14_0242ac1c0002row13_col6,#T_efc2475a_c2c9_11eb_8b14_0242ac1c0002row16_col10{\n",
              "            font-size:  6pt;\n",
              "            background-color:  #eaeaea;\n",
              "            color:  #000000;\n",
              "        }#T_efc2475a_c2c9_11eb_8b14_0242ac1c0002row13_col9,#T_efc2475a_c2c9_11eb_8b14_0242ac1c0002row15_col10{\n",
              "            font-size:  6pt;\n",
              "            background-color:  #d7d7d7;\n",
              "            color:  #000000;\n",
              "        }#T_efc2475a_c2c9_11eb_8b14_0242ac1c0002row13_col10{\n",
              "            font-size:  6pt;\n",
              "            background-color:  #e0e0e0;\n",
              "            color:  #000000;\n",
              "        }#T_efc2475a_c2c9_11eb_8b14_0242ac1c0002row13_col13,#T_efc2475a_c2c9_11eb_8b14_0242ac1c0002row14_col9{\n",
              "            font-size:  6pt;\n",
              "            background-color:  #d1d1d1;\n",
              "            color:  #000000;\n",
              "        }#T_efc2475a_c2c9_11eb_8b14_0242ac1c0002row13_col19,#T_efc2475a_c2c9_11eb_8b14_0242ac1c0002row19_col10{\n",
              "            font-size:  6pt;\n",
              "            background-color:  #9e9e9e;\n",
              "            color:  #000000;\n",
              "        }#T_efc2475a_c2c9_11eb_8b14_0242ac1c0002row14_col4{\n",
              "            font-size:  6pt;\n",
              "            background-color:  #c2c2c2;\n",
              "            color:  #000000;\n",
              "        }#T_efc2475a_c2c9_11eb_8b14_0242ac1c0002row14_col5,#T_efc2475a_c2c9_11eb_8b14_0242ac1c0002row19_col6,#T_efc2475a_c2c9_11eb_8b14_0242ac1c0002row19_col11{\n",
              "            font-size:  6pt;\n",
              "            background-color:  #d4d4d4;\n",
              "            color:  #000000;\n",
              "        }#T_efc2475a_c2c9_11eb_8b14_0242ac1c0002row14_col6{\n",
              "            font-size:  6pt;\n",
              "            background-color:  #e9e9e9;\n",
              "            color:  #000000;\n",
              "        }#T_efc2475a_c2c9_11eb_8b14_0242ac1c0002row14_col12{\n",
              "            font-size:  6pt;\n",
              "            background-color:  #dbdbdb;\n",
              "            color:  #000000;\n",
              "        }#T_efc2475a_c2c9_11eb_8b14_0242ac1c0002row15_col11{\n",
              "            font-size:  6pt;\n",
              "            background-color:  #a5a5a5;\n",
              "            color:  #000000;\n",
              "        }#T_efc2475a_c2c9_11eb_8b14_0242ac1c0002row15_col12{\n",
              "            font-size:  6pt;\n",
              "            background-color:  #b3b3b3;\n",
              "            color:  #000000;\n",
              "        }#T_efc2475a_c2c9_11eb_8b14_0242ac1c0002row16_col7,#T_efc2475a_c2c9_11eb_8b14_0242ac1c0002row16_col12{\n",
              "            font-size:  6pt;\n",
              "            background-color:  #fdfdfd;\n",
              "            color:  #000000;\n",
              "        }#T_efc2475a_c2c9_11eb_8b14_0242ac1c0002row16_col8{\n",
              "            font-size:  6pt;\n",
              "            background-color:  #f5f5f5;\n",
              "            color:  #000000;\n",
              "        }#T_efc2475a_c2c9_11eb_8b14_0242ac1c0002row16_col11{\n",
              "            font-size:  6pt;\n",
              "            background-color:  #eeeeee;\n",
              "            color:  #000000;\n",
              "        }#T_efc2475a_c2c9_11eb_8b14_0242ac1c0002row17_col7,#T_efc2475a_c2c9_11eb_8b14_0242ac1c0002row18_col11{\n",
              "            font-size:  6pt;\n",
              "            background-color:  #fbfbfb;\n",
              "            color:  #000000;\n",
              "        }#T_efc2475a_c2c9_11eb_8b14_0242ac1c0002row18_col6{\n",
              "            font-size:  6pt;\n",
              "            background-color:  #f3f3f3;\n",
              "            color:  #000000;\n",
              "        }#T_efc2475a_c2c9_11eb_8b14_0242ac1c0002row18_col9{\n",
              "            font-size:  6pt;\n",
              "            background-color:  #666666;\n",
              "            color:  #f1f1f1;\n",
              "        }#T_efc2475a_c2c9_11eb_8b14_0242ac1c0002row18_col10{\n",
              "            font-size:  6pt;\n",
              "            background-color:  #bfbfbf;\n",
              "            color:  #000000;\n",
              "        }#T_efc2475a_c2c9_11eb_8b14_0242ac1c0002row19_col5{\n",
              "            font-size:  6pt;\n",
              "            background-color:  #ededed;\n",
              "            color:  #000000;\n",
              "        }#T_efc2475a_c2c9_11eb_8b14_0242ac1c0002row19_col7{\n",
              "            font-size:  6pt;\n",
              "            background-color:  #9f9f9f;\n",
              "            color:  #000000;\n",
              "        }#T_efc2475a_c2c9_11eb_8b14_0242ac1c0002row19_col8{\n",
              "            font-size:  6pt;\n",
              "            background-color:  #3f3f3f;\n",
              "            color:  #f1f1f1;\n",
              "        }#T_efc2475a_c2c9_11eb_8b14_0242ac1c0002row19_col9{\n",
              "            font-size:  6pt;\n",
              "            background-color:  #464646;\n",
              "            color:  #f1f1f1;\n",
              "        }#T_efc2475a_c2c9_11eb_8b14_0242ac1c0002row19_col18{\n",
              "            font-size:  6pt;\n",
              "            background-color:  #1b1b1b;\n",
              "            color:  #f1f1f1;\n",
              "        }#T_efc2475a_c2c9_11eb_8b14_0242ac1c0002row19_col19{\n",
              "            font-size:  6pt;\n",
              "            background-color:  #1f1f1f;\n",
              "            color:  #f1f1f1;\n",
              "        }</style><table id=\"T_efc2475a_c2c9_11eb_8b14_0242ac1c0002\" ><thead>    <tr>        <th class=\"blank level0\" ></th>        <th class=\"col_heading level0 col0\" >0</th>        <th class=\"col_heading level0 col1\" >1</th>        <th class=\"col_heading level0 col2\" >2</th>        <th class=\"col_heading level0 col3\" >3</th>        <th class=\"col_heading level0 col4\" >4</th>        <th class=\"col_heading level0 col5\" >5</th>        <th class=\"col_heading level0 col6\" >6</th>        <th class=\"col_heading level0 col7\" >7</th>        <th class=\"col_heading level0 col8\" >8</th>        <th class=\"col_heading level0 col9\" >9</th>        <th class=\"col_heading level0 col10\" >10</th>        <th class=\"col_heading level0 col11\" >11</th>        <th class=\"col_heading level0 col12\" >12</th>        <th class=\"col_heading level0 col13\" >13</th>        <th class=\"col_heading level0 col14\" >14</th>        <th class=\"col_heading level0 col15\" >15</th>        <th class=\"col_heading level0 col16\" >16</th>        <th class=\"col_heading level0 col17\" >17</th>        <th class=\"col_heading level0 col18\" >18</th>        <th class=\"col_heading level0 col19\" >19</th>    </tr></thead><tbody>\n",
              "                <tr>\n",
              "                        <th id=\"T_efc2475a_c2c9_11eb_8b14_0242ac1c0002level0_row0\" class=\"row_heading level0 row0\" >0</th>\n",
              "                        <td id=\"T_efc2475a_c2c9_11eb_8b14_0242ac1c0002row0_col0\" class=\"data row0 col0\" >0</td>\n",
              "                        <td id=\"T_efc2475a_c2c9_11eb_8b14_0242ac1c0002row0_col1\" class=\"data row0 col1\" >0</td>\n",
              "                        <td id=\"T_efc2475a_c2c9_11eb_8b14_0242ac1c0002row0_col2\" class=\"data row0 col2\" >0</td>\n",
              "                        <td id=\"T_efc2475a_c2c9_11eb_8b14_0242ac1c0002row0_col3\" class=\"data row0 col3\" >0</td>\n",
              "                        <td id=\"T_efc2475a_c2c9_11eb_8b14_0242ac1c0002row0_col4\" class=\"data row0 col4\" >0</td>\n",
              "                        <td id=\"T_efc2475a_c2c9_11eb_8b14_0242ac1c0002row0_col5\" class=\"data row0 col5\" >0</td>\n",
              "                        <td id=\"T_efc2475a_c2c9_11eb_8b14_0242ac1c0002row0_col6\" class=\"data row0 col6\" >0</td>\n",
              "                        <td id=\"T_efc2475a_c2c9_11eb_8b14_0242ac1c0002row0_col7\" class=\"data row0 col7\" >0</td>\n",
              "                        <td id=\"T_efc2475a_c2c9_11eb_8b14_0242ac1c0002row0_col8\" class=\"data row0 col8\" >0</td>\n",
              "                        <td id=\"T_efc2475a_c2c9_11eb_8b14_0242ac1c0002row0_col9\" class=\"data row0 col9\" >0</td>\n",
              "                        <td id=\"T_efc2475a_c2c9_11eb_8b14_0242ac1c0002row0_col10\" class=\"data row0 col10\" >0</td>\n",
              "                        <td id=\"T_efc2475a_c2c9_11eb_8b14_0242ac1c0002row0_col11\" class=\"data row0 col11\" >0</td>\n",
              "                        <td id=\"T_efc2475a_c2c9_11eb_8b14_0242ac1c0002row0_col12\" class=\"data row0 col12\" >0</td>\n",
              "                        <td id=\"T_efc2475a_c2c9_11eb_8b14_0242ac1c0002row0_col13\" class=\"data row0 col13\" >0</td>\n",
              "                        <td id=\"T_efc2475a_c2c9_11eb_8b14_0242ac1c0002row0_col14\" class=\"data row0 col14\" >0</td>\n",
              "                        <td id=\"T_efc2475a_c2c9_11eb_8b14_0242ac1c0002row0_col15\" class=\"data row0 col15\" >0</td>\n",
              "                        <td id=\"T_efc2475a_c2c9_11eb_8b14_0242ac1c0002row0_col16\" class=\"data row0 col16\" >0</td>\n",
              "                        <td id=\"T_efc2475a_c2c9_11eb_8b14_0242ac1c0002row0_col17\" class=\"data row0 col17\" >0</td>\n",
              "                        <td id=\"T_efc2475a_c2c9_11eb_8b14_0242ac1c0002row0_col18\" class=\"data row0 col18\" >0</td>\n",
              "                        <td id=\"T_efc2475a_c2c9_11eb_8b14_0242ac1c0002row0_col19\" class=\"data row0 col19\" >0</td>\n",
              "            </tr>\n",
              "            <tr>\n",
              "                        <th id=\"T_efc2475a_c2c9_11eb_8b14_0242ac1c0002level0_row1\" class=\"row_heading level0 row1\" >1</th>\n",
              "                        <td id=\"T_efc2475a_c2c9_11eb_8b14_0242ac1c0002row1_col0\" class=\"data row1 col0\" >0</td>\n",
              "                        <td id=\"T_efc2475a_c2c9_11eb_8b14_0242ac1c0002row1_col1\" class=\"data row1 col1\" >0</td>\n",
              "                        <td id=\"T_efc2475a_c2c9_11eb_8b14_0242ac1c0002row1_col2\" class=\"data row1 col2\" >0</td>\n",
              "                        <td id=\"T_efc2475a_c2c9_11eb_8b14_0242ac1c0002row1_col3\" class=\"data row1 col3\" >0</td>\n",
              "                        <td id=\"T_efc2475a_c2c9_11eb_8b14_0242ac1c0002row1_col4\" class=\"data row1 col4\" >0</td>\n",
              "                        <td id=\"T_efc2475a_c2c9_11eb_8b14_0242ac1c0002row1_col5\" class=\"data row1 col5\" >0</td>\n",
              "                        <td id=\"T_efc2475a_c2c9_11eb_8b14_0242ac1c0002row1_col6\" class=\"data row1 col6\" >0</td>\n",
              "                        <td id=\"T_efc2475a_c2c9_11eb_8b14_0242ac1c0002row1_col7\" class=\"data row1 col7\" >0</td>\n",
              "                        <td id=\"T_efc2475a_c2c9_11eb_8b14_0242ac1c0002row1_col8\" class=\"data row1 col8\" >0</td>\n",
              "                        <td id=\"T_efc2475a_c2c9_11eb_8b14_0242ac1c0002row1_col9\" class=\"data row1 col9\" >0</td>\n",
              "                        <td id=\"T_efc2475a_c2c9_11eb_8b14_0242ac1c0002row1_col10\" class=\"data row1 col10\" >0</td>\n",
              "                        <td id=\"T_efc2475a_c2c9_11eb_8b14_0242ac1c0002row1_col11\" class=\"data row1 col11\" >0</td>\n",
              "                        <td id=\"T_efc2475a_c2c9_11eb_8b14_0242ac1c0002row1_col12\" class=\"data row1 col12\" >0</td>\n",
              "                        <td id=\"T_efc2475a_c2c9_11eb_8b14_0242ac1c0002row1_col13\" class=\"data row1 col13\" >0</td>\n",
              "                        <td id=\"T_efc2475a_c2c9_11eb_8b14_0242ac1c0002row1_col14\" class=\"data row1 col14\" >0</td>\n",
              "                        <td id=\"T_efc2475a_c2c9_11eb_8b14_0242ac1c0002row1_col15\" class=\"data row1 col15\" >0</td>\n",
              "                        <td id=\"T_efc2475a_c2c9_11eb_8b14_0242ac1c0002row1_col16\" class=\"data row1 col16\" >0</td>\n",
              "                        <td id=\"T_efc2475a_c2c9_11eb_8b14_0242ac1c0002row1_col17\" class=\"data row1 col17\" >0</td>\n",
              "                        <td id=\"T_efc2475a_c2c9_11eb_8b14_0242ac1c0002row1_col18\" class=\"data row1 col18\" >0</td>\n",
              "                        <td id=\"T_efc2475a_c2c9_11eb_8b14_0242ac1c0002row1_col19\" class=\"data row1 col19\" >0</td>\n",
              "            </tr>\n",
              "            <tr>\n",
              "                        <th id=\"T_efc2475a_c2c9_11eb_8b14_0242ac1c0002level0_row2\" class=\"row_heading level0 row2\" >2</th>\n",
              "                        <td id=\"T_efc2475a_c2c9_11eb_8b14_0242ac1c0002row2_col0\" class=\"data row2 col0\" >0</td>\n",
              "                        <td id=\"T_efc2475a_c2c9_11eb_8b14_0242ac1c0002row2_col1\" class=\"data row2 col1\" >0</td>\n",
              "                        <td id=\"T_efc2475a_c2c9_11eb_8b14_0242ac1c0002row2_col2\" class=\"data row2 col2\" >0</td>\n",
              "                        <td id=\"T_efc2475a_c2c9_11eb_8b14_0242ac1c0002row2_col3\" class=\"data row2 col3\" >0</td>\n",
              "                        <td id=\"T_efc2475a_c2c9_11eb_8b14_0242ac1c0002row2_col4\" class=\"data row2 col4\" >0</td>\n",
              "                        <td id=\"T_efc2475a_c2c9_11eb_8b14_0242ac1c0002row2_col5\" class=\"data row2 col5\" >0</td>\n",
              "                        <td id=\"T_efc2475a_c2c9_11eb_8b14_0242ac1c0002row2_col6\" class=\"data row2 col6\" >28</td>\n",
              "                        <td id=\"T_efc2475a_c2c9_11eb_8b14_0242ac1c0002row2_col7\" class=\"data row2 col7\" >96</td>\n",
              "                        <td id=\"T_efc2475a_c2c9_11eb_8b14_0242ac1c0002row2_col8\" class=\"data row2 col8\" >147</td>\n",
              "                        <td id=\"T_efc2475a_c2c9_11eb_8b14_0242ac1c0002row2_col9\" class=\"data row2 col9\" >147</td>\n",
              "                        <td id=\"T_efc2475a_c2c9_11eb_8b14_0242ac1c0002row2_col10\" class=\"data row2 col10\" >107</td>\n",
              "                        <td id=\"T_efc2475a_c2c9_11eb_8b14_0242ac1c0002row2_col11\" class=\"data row2 col11\" >48</td>\n",
              "                        <td id=\"T_efc2475a_c2c9_11eb_8b14_0242ac1c0002row2_col12\" class=\"data row2 col12\" >0</td>\n",
              "                        <td id=\"T_efc2475a_c2c9_11eb_8b14_0242ac1c0002row2_col13\" class=\"data row2 col13\" >0</td>\n",
              "                        <td id=\"T_efc2475a_c2c9_11eb_8b14_0242ac1c0002row2_col14\" class=\"data row2 col14\" >0</td>\n",
              "                        <td id=\"T_efc2475a_c2c9_11eb_8b14_0242ac1c0002row2_col15\" class=\"data row2 col15\" >0</td>\n",
              "                        <td id=\"T_efc2475a_c2c9_11eb_8b14_0242ac1c0002row2_col16\" class=\"data row2 col16\" >0</td>\n",
              "                        <td id=\"T_efc2475a_c2c9_11eb_8b14_0242ac1c0002row2_col17\" class=\"data row2 col17\" >0</td>\n",
              "                        <td id=\"T_efc2475a_c2c9_11eb_8b14_0242ac1c0002row2_col18\" class=\"data row2 col18\" >0</td>\n",
              "                        <td id=\"T_efc2475a_c2c9_11eb_8b14_0242ac1c0002row2_col19\" class=\"data row2 col19\" >0</td>\n",
              "            </tr>\n",
              "            <tr>\n",
              "                        <th id=\"T_efc2475a_c2c9_11eb_8b14_0242ac1c0002level0_row3\" class=\"row_heading level0 row3\" >3</th>\n",
              "                        <td id=\"T_efc2475a_c2c9_11eb_8b14_0242ac1c0002row3_col0\" class=\"data row3 col0\" >0</td>\n",
              "                        <td id=\"T_efc2475a_c2c9_11eb_8b14_0242ac1c0002row3_col1\" class=\"data row3 col1\" >0</td>\n",
              "                        <td id=\"T_efc2475a_c2c9_11eb_8b14_0242ac1c0002row3_col2\" class=\"data row3 col2\" >0</td>\n",
              "                        <td id=\"T_efc2475a_c2c9_11eb_8b14_0242ac1c0002row3_col3\" class=\"data row3 col3\" >0</td>\n",
              "                        <td id=\"T_efc2475a_c2c9_11eb_8b14_0242ac1c0002row3_col4\" class=\"data row3 col4\" >5</td>\n",
              "                        <td id=\"T_efc2475a_c2c9_11eb_8b14_0242ac1c0002row3_col5\" class=\"data row3 col5\" >81</td>\n",
              "                        <td id=\"T_efc2475a_c2c9_11eb_8b14_0242ac1c0002row3_col6\" class=\"data row3 col6\" >196</td>\n",
              "                        <td id=\"T_efc2475a_c2c9_11eb_8b14_0242ac1c0002row3_col7\" class=\"data row3 col7\" >255</td>\n",
              "                        <td id=\"T_efc2475a_c2c9_11eb_8b14_0242ac1c0002row3_col8\" class=\"data row3 col8\" >255</td>\n",
              "                        <td id=\"T_efc2475a_c2c9_11eb_8b14_0242ac1c0002row3_col9\" class=\"data row3 col9\" >255</td>\n",
              "                        <td id=\"T_efc2475a_c2c9_11eb_8b14_0242ac1c0002row3_col10\" class=\"data row3 col10\" >255</td>\n",
              "                        <td id=\"T_efc2475a_c2c9_11eb_8b14_0242ac1c0002row3_col11\" class=\"data row3 col11\" >239</td>\n",
              "                        <td id=\"T_efc2475a_c2c9_11eb_8b14_0242ac1c0002row3_col12\" class=\"data row3 col12\" >141</td>\n",
              "                        <td id=\"T_efc2475a_c2c9_11eb_8b14_0242ac1c0002row3_col13\" class=\"data row3 col13\" >25</td>\n",
              "                        <td id=\"T_efc2475a_c2c9_11eb_8b14_0242ac1c0002row3_col14\" class=\"data row3 col14\" >0</td>\n",
              "                        <td id=\"T_efc2475a_c2c9_11eb_8b14_0242ac1c0002row3_col15\" class=\"data row3 col15\" >0</td>\n",
              "                        <td id=\"T_efc2475a_c2c9_11eb_8b14_0242ac1c0002row3_col16\" class=\"data row3 col16\" >0</td>\n",
              "                        <td id=\"T_efc2475a_c2c9_11eb_8b14_0242ac1c0002row3_col17\" class=\"data row3 col17\" >0</td>\n",
              "                        <td id=\"T_efc2475a_c2c9_11eb_8b14_0242ac1c0002row3_col18\" class=\"data row3 col18\" >0</td>\n",
              "                        <td id=\"T_efc2475a_c2c9_11eb_8b14_0242ac1c0002row3_col19\" class=\"data row3 col19\" >0</td>\n",
              "            </tr>\n",
              "            <tr>\n",
              "                        <th id=\"T_efc2475a_c2c9_11eb_8b14_0242ac1c0002level0_row4\" class=\"row_heading level0 row4\" >4</th>\n",
              "                        <td id=\"T_efc2475a_c2c9_11eb_8b14_0242ac1c0002row4_col0\" class=\"data row4 col0\" >0</td>\n",
              "                        <td id=\"T_efc2475a_c2c9_11eb_8b14_0242ac1c0002row4_col1\" class=\"data row4 col1\" >0</td>\n",
              "                        <td id=\"T_efc2475a_c2c9_11eb_8b14_0242ac1c0002row4_col2\" class=\"data row4 col2\" >0</td>\n",
              "                        <td id=\"T_efc2475a_c2c9_11eb_8b14_0242ac1c0002row4_col3\" class=\"data row4 col3\" >8</td>\n",
              "                        <td id=\"T_efc2475a_c2c9_11eb_8b14_0242ac1c0002row4_col4\" class=\"data row4 col4\" >76</td>\n",
              "                        <td id=\"T_efc2475a_c2c9_11eb_8b14_0242ac1c0002row4_col5\" class=\"data row4 col5\" >177</td>\n",
              "                        <td id=\"T_efc2475a_c2c9_11eb_8b14_0242ac1c0002row4_col6\" class=\"data row4 col6\" >255</td>\n",
              "                        <td id=\"T_efc2475a_c2c9_11eb_8b14_0242ac1c0002row4_col7\" class=\"data row4 col7\" >255</td>\n",
              "                        <td id=\"T_efc2475a_c2c9_11eb_8b14_0242ac1c0002row4_col8\" class=\"data row4 col8\" >255</td>\n",
              "                        <td id=\"T_efc2475a_c2c9_11eb_8b14_0242ac1c0002row4_col9\" class=\"data row4 col9\" >255</td>\n",
              "                        <td id=\"T_efc2475a_c2c9_11eb_8b14_0242ac1c0002row4_col10\" class=\"data row4 col10\" >255</td>\n",
              "                        <td id=\"T_efc2475a_c2c9_11eb_8b14_0242ac1c0002row4_col11\" class=\"data row4 col11\" >255</td>\n",
              "                        <td id=\"T_efc2475a_c2c9_11eb_8b14_0242ac1c0002row4_col12\" class=\"data row4 col12\" >251</td>\n",
              "                        <td id=\"T_efc2475a_c2c9_11eb_8b14_0242ac1c0002row4_col13\" class=\"data row4 col13\" >142</td>\n",
              "                        <td id=\"T_efc2475a_c2c9_11eb_8b14_0242ac1c0002row4_col14\" class=\"data row4 col14\" >33</td>\n",
              "                        <td id=\"T_efc2475a_c2c9_11eb_8b14_0242ac1c0002row4_col15\" class=\"data row4 col15\" >0</td>\n",
              "                        <td id=\"T_efc2475a_c2c9_11eb_8b14_0242ac1c0002row4_col16\" class=\"data row4 col16\" >0</td>\n",
              "                        <td id=\"T_efc2475a_c2c9_11eb_8b14_0242ac1c0002row4_col17\" class=\"data row4 col17\" >0</td>\n",
              "                        <td id=\"T_efc2475a_c2c9_11eb_8b14_0242ac1c0002row4_col18\" class=\"data row4 col18\" >0</td>\n",
              "                        <td id=\"T_efc2475a_c2c9_11eb_8b14_0242ac1c0002row4_col19\" class=\"data row4 col19\" >0</td>\n",
              "            </tr>\n",
              "            <tr>\n",
              "                        <th id=\"T_efc2475a_c2c9_11eb_8b14_0242ac1c0002level0_row5\" class=\"row_heading level0 row5\" >5</th>\n",
              "                        <td id=\"T_efc2475a_c2c9_11eb_8b14_0242ac1c0002row5_col0\" class=\"data row5 col0\" >0</td>\n",
              "                        <td id=\"T_efc2475a_c2c9_11eb_8b14_0242ac1c0002row5_col1\" class=\"data row5 col1\" >0</td>\n",
              "                        <td id=\"T_efc2475a_c2c9_11eb_8b14_0242ac1c0002row5_col2\" class=\"data row5 col2\" >0</td>\n",
              "                        <td id=\"T_efc2475a_c2c9_11eb_8b14_0242ac1c0002row5_col3\" class=\"data row5 col3\" >51</td>\n",
              "                        <td id=\"T_efc2475a_c2c9_11eb_8b14_0242ac1c0002row5_col4\" class=\"data row5 col4\" >106</td>\n",
              "                        <td id=\"T_efc2475a_c2c9_11eb_8b14_0242ac1c0002row5_col5\" class=\"data row5 col5\" >206</td>\n",
              "                        <td id=\"T_efc2475a_c2c9_11eb_8b14_0242ac1c0002row5_col6\" class=\"data row5 col6\" >255</td>\n",
              "                        <td id=\"T_efc2475a_c2c9_11eb_8b14_0242ac1c0002row5_col7\" class=\"data row5 col7\" >255</td>\n",
              "                        <td id=\"T_efc2475a_c2c9_11eb_8b14_0242ac1c0002row5_col8\" class=\"data row5 col8\" >255</td>\n",
              "                        <td id=\"T_efc2475a_c2c9_11eb_8b14_0242ac1c0002row5_col9\" class=\"data row5 col9\" >255</td>\n",
              "                        <td id=\"T_efc2475a_c2c9_11eb_8b14_0242ac1c0002row5_col10\" class=\"data row5 col10\" >255</td>\n",
              "                        <td id=\"T_efc2475a_c2c9_11eb_8b14_0242ac1c0002row5_col11\" class=\"data row5 col11\" >255</td>\n",
              "                        <td id=\"T_efc2475a_c2c9_11eb_8b14_0242ac1c0002row5_col12\" class=\"data row5 col12\" >255</td>\n",
              "                        <td id=\"T_efc2475a_c2c9_11eb_8b14_0242ac1c0002row5_col13\" class=\"data row5 col13\" >205</td>\n",
              "                        <td id=\"T_efc2475a_c2c9_11eb_8b14_0242ac1c0002row5_col14\" class=\"data row5 col14\" >110</td>\n",
              "                        <td id=\"T_efc2475a_c2c9_11eb_8b14_0242ac1c0002row5_col15\" class=\"data row5 col15\" >22</td>\n",
              "                        <td id=\"T_efc2475a_c2c9_11eb_8b14_0242ac1c0002row5_col16\" class=\"data row5 col16\" >0</td>\n",
              "                        <td id=\"T_efc2475a_c2c9_11eb_8b14_0242ac1c0002row5_col17\" class=\"data row5 col17\" >0</td>\n",
              "                        <td id=\"T_efc2475a_c2c9_11eb_8b14_0242ac1c0002row5_col18\" class=\"data row5 col18\" >0</td>\n",
              "                        <td id=\"T_efc2475a_c2c9_11eb_8b14_0242ac1c0002row5_col19\" class=\"data row5 col19\" >0</td>\n",
              "            </tr>\n",
              "            <tr>\n",
              "                        <th id=\"T_efc2475a_c2c9_11eb_8b14_0242ac1c0002level0_row6\" class=\"row_heading level0 row6\" >6</th>\n",
              "                        <td id=\"T_efc2475a_c2c9_11eb_8b14_0242ac1c0002row6_col0\" class=\"data row6 col0\" >0</td>\n",
              "                        <td id=\"T_efc2475a_c2c9_11eb_8b14_0242ac1c0002row6_col1\" class=\"data row6 col1\" >0</td>\n",
              "                        <td id=\"T_efc2475a_c2c9_11eb_8b14_0242ac1c0002row6_col2\" class=\"data row6 col2\" >28</td>\n",
              "                        <td id=\"T_efc2475a_c2c9_11eb_8b14_0242ac1c0002row6_col3\" class=\"data row6 col3\" >69</td>\n",
              "                        <td id=\"T_efc2475a_c2c9_11eb_8b14_0242ac1c0002row6_col4\" class=\"data row6 col4\" >106</td>\n",
              "                        <td id=\"T_efc2475a_c2c9_11eb_8b14_0242ac1c0002row6_col5\" class=\"data row6 col5\" >198</td>\n",
              "                        <td id=\"T_efc2475a_c2c9_11eb_8b14_0242ac1c0002row6_col6\" class=\"data row6 col6\" >255</td>\n",
              "                        <td id=\"T_efc2475a_c2c9_11eb_8b14_0242ac1c0002row6_col7\" class=\"data row6 col7\" >255</td>\n",
              "                        <td id=\"T_efc2475a_c2c9_11eb_8b14_0242ac1c0002row6_col8\" class=\"data row6 col8\" >255</td>\n",
              "                        <td id=\"T_efc2475a_c2c9_11eb_8b14_0242ac1c0002row6_col9\" class=\"data row6 col9\" >255</td>\n",
              "                        <td id=\"T_efc2475a_c2c9_11eb_8b14_0242ac1c0002row6_col10\" class=\"data row6 col10\" >255</td>\n",
              "                        <td id=\"T_efc2475a_c2c9_11eb_8b14_0242ac1c0002row6_col11\" class=\"data row6 col11\" >255</td>\n",
              "                        <td id=\"T_efc2475a_c2c9_11eb_8b14_0242ac1c0002row6_col12\" class=\"data row6 col12\" >255</td>\n",
              "                        <td id=\"T_efc2475a_c2c9_11eb_8b14_0242ac1c0002row6_col13\" class=\"data row6 col13\" >213</td>\n",
              "                        <td id=\"T_efc2475a_c2c9_11eb_8b14_0242ac1c0002row6_col14\" class=\"data row6 col14\" >145</td>\n",
              "                        <td id=\"T_efc2475a_c2c9_11eb_8b14_0242ac1c0002row6_col15\" class=\"data row6 col15\" >90</td>\n",
              "                        <td id=\"T_efc2475a_c2c9_11eb_8b14_0242ac1c0002row6_col16\" class=\"data row6 col16\" >3</td>\n",
              "                        <td id=\"T_efc2475a_c2c9_11eb_8b14_0242ac1c0002row6_col17\" class=\"data row6 col17\" >0</td>\n",
              "                        <td id=\"T_efc2475a_c2c9_11eb_8b14_0242ac1c0002row6_col18\" class=\"data row6 col18\" >0</td>\n",
              "                        <td id=\"T_efc2475a_c2c9_11eb_8b14_0242ac1c0002row6_col19\" class=\"data row6 col19\" >0</td>\n",
              "            </tr>\n",
              "            <tr>\n",
              "                        <th id=\"T_efc2475a_c2c9_11eb_8b14_0242ac1c0002level0_row7\" class=\"row_heading level0 row7\" >7</th>\n",
              "                        <td id=\"T_efc2475a_c2c9_11eb_8b14_0242ac1c0002row7_col0\" class=\"data row7 col0\" >0</td>\n",
              "                        <td id=\"T_efc2475a_c2c9_11eb_8b14_0242ac1c0002row7_col1\" class=\"data row7 col1\" >0</td>\n",
              "                        <td id=\"T_efc2475a_c2c9_11eb_8b14_0242ac1c0002row7_col2\" class=\"data row7 col2\" >95</td>\n",
              "                        <td id=\"T_efc2475a_c2c9_11eb_8b14_0242ac1c0002row7_col3\" class=\"data row7 col3\" >75</td>\n",
              "                        <td id=\"T_efc2475a_c2c9_11eb_8b14_0242ac1c0002row7_col4\" class=\"data row7 col4\" >86</td>\n",
              "                        <td id=\"T_efc2475a_c2c9_11eb_8b14_0242ac1c0002row7_col5\" class=\"data row7 col5\" >156</td>\n",
              "                        <td id=\"T_efc2475a_c2c9_11eb_8b14_0242ac1c0002row7_col6\" class=\"data row7 col6\" >229</td>\n",
              "                        <td id=\"T_efc2475a_c2c9_11eb_8b14_0242ac1c0002row7_col7\" class=\"data row7 col7\" >255</td>\n",
              "                        <td id=\"T_efc2475a_c2c9_11eb_8b14_0242ac1c0002row7_col8\" class=\"data row7 col8\" >255</td>\n",
              "                        <td id=\"T_efc2475a_c2c9_11eb_8b14_0242ac1c0002row7_col9\" class=\"data row7 col9\" >255</td>\n",
              "                        <td id=\"T_efc2475a_c2c9_11eb_8b14_0242ac1c0002row7_col10\" class=\"data row7 col10\" >255</td>\n",
              "                        <td id=\"T_efc2475a_c2c9_11eb_8b14_0242ac1c0002row7_col11\" class=\"data row7 col11\" >255</td>\n",
              "                        <td id=\"T_efc2475a_c2c9_11eb_8b14_0242ac1c0002row7_col12\" class=\"data row7 col12\" >246</td>\n",
              "                        <td id=\"T_efc2475a_c2c9_11eb_8b14_0242ac1c0002row7_col13\" class=\"data row7 col13\" >180</td>\n",
              "                        <td id=\"T_efc2475a_c2c9_11eb_8b14_0242ac1c0002row7_col14\" class=\"data row7 col14\" >139</td>\n",
              "                        <td id=\"T_efc2475a_c2c9_11eb_8b14_0242ac1c0002row7_col15\" class=\"data row7 col15\" >108</td>\n",
              "                        <td id=\"T_efc2475a_c2c9_11eb_8b14_0242ac1c0002row7_col16\" class=\"data row7 col16\" >24</td>\n",
              "                        <td id=\"T_efc2475a_c2c9_11eb_8b14_0242ac1c0002row7_col17\" class=\"data row7 col17\" >0</td>\n",
              "                        <td id=\"T_efc2475a_c2c9_11eb_8b14_0242ac1c0002row7_col18\" class=\"data row7 col18\" >0</td>\n",
              "                        <td id=\"T_efc2475a_c2c9_11eb_8b14_0242ac1c0002row7_col19\" class=\"data row7 col19\" >1</td>\n",
              "            </tr>\n",
              "            <tr>\n",
              "                        <th id=\"T_efc2475a_c2c9_11eb_8b14_0242ac1c0002level0_row8\" class=\"row_heading level0 row8\" >8</th>\n",
              "                        <td id=\"T_efc2475a_c2c9_11eb_8b14_0242ac1c0002row8_col0\" class=\"data row8 col0\" >0</td>\n",
              "                        <td id=\"T_efc2475a_c2c9_11eb_8b14_0242ac1c0002row8_col1\" class=\"data row8 col1\" >0</td>\n",
              "                        <td id=\"T_efc2475a_c2c9_11eb_8b14_0242ac1c0002row8_col2\" class=\"data row8 col2\" >143</td>\n",
              "                        <td id=\"T_efc2475a_c2c9_11eb_8b14_0242ac1c0002row8_col3\" class=\"data row8 col3\" >71</td>\n",
              "                        <td id=\"T_efc2475a_c2c9_11eb_8b14_0242ac1c0002row8_col4\" class=\"data row8 col4\" >69</td>\n",
              "                        <td id=\"T_efc2475a_c2c9_11eb_8b14_0242ac1c0002row8_col5\" class=\"data row8 col5\" >112</td>\n",
              "                        <td id=\"T_efc2475a_c2c9_11eb_8b14_0242ac1c0002row8_col6\" class=\"data row8 col6\" >167</td>\n",
              "                        <td id=\"T_efc2475a_c2c9_11eb_8b14_0242ac1c0002row8_col7\" class=\"data row8 col7\" >219</td>\n",
              "                        <td id=\"T_efc2475a_c2c9_11eb_8b14_0242ac1c0002row8_col8\" class=\"data row8 col8\" >249</td>\n",
              "                        <td id=\"T_efc2475a_c2c9_11eb_8b14_0242ac1c0002row8_col9\" class=\"data row8 col9\" >255</td>\n",
              "                        <td id=\"T_efc2475a_c2c9_11eb_8b14_0242ac1c0002row8_col10\" class=\"data row8 col10\" >253</td>\n",
              "                        <td id=\"T_efc2475a_c2c9_11eb_8b14_0242ac1c0002row8_col11\" class=\"data row8 col11\" >233</td>\n",
              "                        <td id=\"T_efc2475a_c2c9_11eb_8b14_0242ac1c0002row8_col12\" class=\"data row8 col12\" >190</td>\n",
              "                        <td id=\"T_efc2475a_c2c9_11eb_8b14_0242ac1c0002row8_col13\" class=\"data row8 col13\" >142</td>\n",
              "                        <td id=\"T_efc2475a_c2c9_11eb_8b14_0242ac1c0002row8_col14\" class=\"data row8 col14\" >144</td>\n",
              "                        <td id=\"T_efc2475a_c2c9_11eb_8b14_0242ac1c0002row8_col15\" class=\"data row8 col15\" >128</td>\n",
              "                        <td id=\"T_efc2475a_c2c9_11eb_8b14_0242ac1c0002row8_col16\" class=\"data row8 col16\" >35</td>\n",
              "                        <td id=\"T_efc2475a_c2c9_11eb_8b14_0242ac1c0002row8_col17\" class=\"data row8 col17\" >0</td>\n",
              "                        <td id=\"T_efc2475a_c2c9_11eb_8b14_0242ac1c0002row8_col18\" class=\"data row8 col18\" >9</td>\n",
              "                        <td id=\"T_efc2475a_c2c9_11eb_8b14_0242ac1c0002row8_col19\" class=\"data row8 col19\" >93</td>\n",
              "            </tr>\n",
              "            <tr>\n",
              "                        <th id=\"T_efc2475a_c2c9_11eb_8b14_0242ac1c0002level0_row9\" class=\"row_heading level0 row9\" >9</th>\n",
              "                        <td id=\"T_efc2475a_c2c9_11eb_8b14_0242ac1c0002row9_col0\" class=\"data row9 col0\" >0</td>\n",
              "                        <td id=\"T_efc2475a_c2c9_11eb_8b14_0242ac1c0002row9_col1\" class=\"data row9 col1\" >4</td>\n",
              "                        <td id=\"T_efc2475a_c2c9_11eb_8b14_0242ac1c0002row9_col2\" class=\"data row9 col2\" >127</td>\n",
              "                        <td id=\"T_efc2475a_c2c9_11eb_8b14_0242ac1c0002row9_col3\" class=\"data row9 col3\" >72</td>\n",
              "                        <td id=\"T_efc2475a_c2c9_11eb_8b14_0242ac1c0002row9_col4\" class=\"data row9 col4\" >61</td>\n",
              "                        <td id=\"T_efc2475a_c2c9_11eb_8b14_0242ac1c0002row9_col5\" class=\"data row9 col5\" >70</td>\n",
              "                        <td id=\"T_efc2475a_c2c9_11eb_8b14_0242ac1c0002row9_col6\" class=\"data row9 col6\" >109</td>\n",
              "                        <td id=\"T_efc2475a_c2c9_11eb_8b14_0242ac1c0002row9_col7\" class=\"data row9 col7\" >133</td>\n",
              "                        <td id=\"T_efc2475a_c2c9_11eb_8b14_0242ac1c0002row9_col8\" class=\"data row9 col8\" >157</td>\n",
              "                        <td id=\"T_efc2475a_c2c9_11eb_8b14_0242ac1c0002row9_col9\" class=\"data row9 col9\" >168</td>\n",
              "                        <td id=\"T_efc2475a_c2c9_11eb_8b14_0242ac1c0002row9_col10\" class=\"data row9 col10\" >171</td>\n",
              "                        <td id=\"T_efc2475a_c2c9_11eb_8b14_0242ac1c0002row9_col11\" class=\"data row9 col11\" >146</td>\n",
              "                        <td id=\"T_efc2475a_c2c9_11eb_8b14_0242ac1c0002row9_col12\" class=\"data row9 col12\" >124</td>\n",
              "                        <td id=\"T_efc2475a_c2c9_11eb_8b14_0242ac1c0002row9_col13\" class=\"data row9 col13\" >165</td>\n",
              "                        <td id=\"T_efc2475a_c2c9_11eb_8b14_0242ac1c0002row9_col14\" class=\"data row9 col14\" >186</td>\n",
              "                        <td id=\"T_efc2475a_c2c9_11eb_8b14_0242ac1c0002row9_col15\" class=\"data row9 col15\" >170</td>\n",
              "                        <td id=\"T_efc2475a_c2c9_11eb_8b14_0242ac1c0002row9_col16\" class=\"data row9 col16\" >44</td>\n",
              "                        <td id=\"T_efc2475a_c2c9_11eb_8b14_0242ac1c0002row9_col17\" class=\"data row9 col17\" >0</td>\n",
              "                        <td id=\"T_efc2475a_c2c9_11eb_8b14_0242ac1c0002row9_col18\" class=\"data row9 col18\" >62</td>\n",
              "                        <td id=\"T_efc2475a_c2c9_11eb_8b14_0242ac1c0002row9_col19\" class=\"data row9 col19\" >127</td>\n",
              "            </tr>\n",
              "            <tr>\n",
              "                        <th id=\"T_efc2475a_c2c9_11eb_8b14_0242ac1c0002level0_row10\" class=\"row_heading level0 row10\" >10</th>\n",
              "                        <td id=\"T_efc2475a_c2c9_11eb_8b14_0242ac1c0002row10_col0\" class=\"data row10 col0\" >0</td>\n",
              "                        <td id=\"T_efc2475a_c2c9_11eb_8b14_0242ac1c0002row10_col1\" class=\"data row10 col1\" >0</td>\n",
              "                        <td id=\"T_efc2475a_c2c9_11eb_8b14_0242ac1c0002row10_col2\" class=\"data row10 col2\" >99</td>\n",
              "                        <td id=\"T_efc2475a_c2c9_11eb_8b14_0242ac1c0002row10_col3\" class=\"data row10 col3\" >117</td>\n",
              "                        <td id=\"T_efc2475a_c2c9_11eb_8b14_0242ac1c0002row10_col4\" class=\"data row10 col4\" >116</td>\n",
              "                        <td id=\"T_efc2475a_c2c9_11eb_8b14_0242ac1c0002row10_col5\" class=\"data row10 col5\" >52</td>\n",
              "                        <td id=\"T_efc2475a_c2c9_11eb_8b14_0242ac1c0002row10_col6\" class=\"data row10 col6\" >62</td>\n",
              "                        <td id=\"T_efc2475a_c2c9_11eb_8b14_0242ac1c0002row10_col7\" class=\"data row10 col7\" >89</td>\n",
              "                        <td id=\"T_efc2475a_c2c9_11eb_8b14_0242ac1c0002row10_col8\" class=\"data row10 col8\" >112</td>\n",
              "                        <td id=\"T_efc2475a_c2c9_11eb_8b14_0242ac1c0002row10_col9\" class=\"data row10 col9\" >114</td>\n",
              "                        <td id=\"T_efc2475a_c2c9_11eb_8b14_0242ac1c0002row10_col10\" class=\"data row10 col10\" >112</td>\n",
              "                        <td id=\"T_efc2475a_c2c9_11eb_8b14_0242ac1c0002row10_col11\" class=\"data row10 col11\" >117</td>\n",
              "                        <td id=\"T_efc2475a_c2c9_11eb_8b14_0242ac1c0002row10_col12\" class=\"data row10 col12\" >107</td>\n",
              "                        <td id=\"T_efc2475a_c2c9_11eb_8b14_0242ac1c0002row10_col13\" class=\"data row10 col13\" >180</td>\n",
              "                        <td id=\"T_efc2475a_c2c9_11eb_8b14_0242ac1c0002row10_col14\" class=\"data row10 col14\" >176</td>\n",
              "                        <td id=\"T_efc2475a_c2c9_11eb_8b14_0242ac1c0002row10_col15\" class=\"data row10 col15\" >140</td>\n",
              "                        <td id=\"T_efc2475a_c2c9_11eb_8b14_0242ac1c0002row10_col16\" class=\"data row10 col16\" >44</td>\n",
              "                        <td id=\"T_efc2475a_c2c9_11eb_8b14_0242ac1c0002row10_col17\" class=\"data row10 col17\" >4</td>\n",
              "                        <td id=\"T_efc2475a_c2c9_11eb_8b14_0242ac1c0002row10_col18\" class=\"data row10 col18\" >72</td>\n",
              "                        <td id=\"T_efc2475a_c2c9_11eb_8b14_0242ac1c0002row10_col19\" class=\"data row10 col19\" >113</td>\n",
              "            </tr>\n",
              "            <tr>\n",
              "                        <th id=\"T_efc2475a_c2c9_11eb_8b14_0242ac1c0002level0_row11\" class=\"row_heading level0 row11\" >11</th>\n",
              "                        <td id=\"T_efc2475a_c2c9_11eb_8b14_0242ac1c0002row11_col0\" class=\"data row11 col0\" >0</td>\n",
              "                        <td id=\"T_efc2475a_c2c9_11eb_8b14_0242ac1c0002row11_col1\" class=\"data row11 col1\" >0</td>\n",
              "                        <td id=\"T_efc2475a_c2c9_11eb_8b14_0242ac1c0002row11_col2\" class=\"data row11 col2\" >71</td>\n",
              "                        <td id=\"T_efc2475a_c2c9_11eb_8b14_0242ac1c0002row11_col3\" class=\"data row11 col3\" >109</td>\n",
              "                        <td id=\"T_efc2475a_c2c9_11eb_8b14_0242ac1c0002row11_col4\" class=\"data row11 col4\" >100</td>\n",
              "                        <td id=\"T_efc2475a_c2c9_11eb_8b14_0242ac1c0002row11_col5\" class=\"data row11 col5\" >45</td>\n",
              "                        <td id=\"T_efc2475a_c2c9_11eb_8b14_0242ac1c0002row11_col6\" class=\"data row11 col6\" >43</td>\n",
              "                        <td id=\"T_efc2475a_c2c9_11eb_8b14_0242ac1c0002row11_col7\" class=\"data row11 col7\" >76</td>\n",
              "                        <td id=\"T_efc2475a_c2c9_11eb_8b14_0242ac1c0002row11_col8\" class=\"data row11 col8\" >102</td>\n",
              "                        <td id=\"T_efc2475a_c2c9_11eb_8b14_0242ac1c0002row11_col9\" class=\"data row11 col9\" >98</td>\n",
              "                        <td id=\"T_efc2475a_c2c9_11eb_8b14_0242ac1c0002row11_col10\" class=\"data row11 col10\" >89</td>\n",
              "                        <td id=\"T_efc2475a_c2c9_11eb_8b14_0242ac1c0002row11_col11\" class=\"data row11 col11\" >87</td>\n",
              "                        <td id=\"T_efc2475a_c2c9_11eb_8b14_0242ac1c0002row11_col12\" class=\"data row11 col12\" >79</td>\n",
              "                        <td id=\"T_efc2475a_c2c9_11eb_8b14_0242ac1c0002row11_col13\" class=\"data row11 col13\" >108</td>\n",
              "                        <td id=\"T_efc2475a_c2c9_11eb_8b14_0242ac1c0002row11_col14\" class=\"data row11 col14\" >105</td>\n",
              "                        <td id=\"T_efc2475a_c2c9_11eb_8b14_0242ac1c0002row11_col15\" class=\"data row11 col15\" >103</td>\n",
              "                        <td id=\"T_efc2475a_c2c9_11eb_8b14_0242ac1c0002row11_col16\" class=\"data row11 col16\" >28</td>\n",
              "                        <td id=\"T_efc2475a_c2c9_11eb_8b14_0242ac1c0002row11_col17\" class=\"data row11 col17\" >15</td>\n",
              "                        <td id=\"T_efc2475a_c2c9_11eb_8b14_0242ac1c0002row11_col18\" class=\"data row11 col18\" >76</td>\n",
              "                        <td id=\"T_efc2475a_c2c9_11eb_8b14_0242ac1c0002row11_col19\" class=\"data row11 col19\" >73</td>\n",
              "            </tr>\n",
              "            <tr>\n",
              "                        <th id=\"T_efc2475a_c2c9_11eb_8b14_0242ac1c0002level0_row12\" class=\"row_heading level0 row12\" >12</th>\n",
              "                        <td id=\"T_efc2475a_c2c9_11eb_8b14_0242ac1c0002row12_col0\" class=\"data row12 col0\" >0</td>\n",
              "                        <td id=\"T_efc2475a_c2c9_11eb_8b14_0242ac1c0002row12_col1\" class=\"data row12 col1\" >0</td>\n",
              "                        <td id=\"T_efc2475a_c2c9_11eb_8b14_0242ac1c0002row12_col2\" class=\"data row12 col2\" >18</td>\n",
              "                        <td id=\"T_efc2475a_c2c9_11eb_8b14_0242ac1c0002row12_col3\" class=\"data row12 col3\" >100</td>\n",
              "                        <td id=\"T_efc2475a_c2c9_11eb_8b14_0242ac1c0002row12_col4\" class=\"data row12 col4\" >63</td>\n",
              "                        <td id=\"T_efc2475a_c2c9_11eb_8b14_0242ac1c0002row12_col5\" class=\"data row12 col5\" >38</td>\n",
              "                        <td id=\"T_efc2475a_c2c9_11eb_8b14_0242ac1c0002row12_col6\" class=\"data row12 col6\" >37</td>\n",
              "                        <td id=\"T_efc2475a_c2c9_11eb_8b14_0242ac1c0002row12_col7\" class=\"data row12 col7\" >39</td>\n",
              "                        <td id=\"T_efc2475a_c2c9_11eb_8b14_0242ac1c0002row12_col8\" class=\"data row12 col8\" >51</td>\n",
              "                        <td id=\"T_efc2475a_c2c9_11eb_8b14_0242ac1c0002row12_col9\" class=\"data row12 col9\" >57</td>\n",
              "                        <td id=\"T_efc2475a_c2c9_11eb_8b14_0242ac1c0002row12_col10\" class=\"data row12 col10\" >60</td>\n",
              "                        <td id=\"T_efc2475a_c2c9_11eb_8b14_0242ac1c0002row12_col11\" class=\"data row12 col11\" >67</td>\n",
              "                        <td id=\"T_efc2475a_c2c9_11eb_8b14_0242ac1c0002row12_col12\" class=\"data row12 col12\" >82</td>\n",
              "                        <td id=\"T_efc2475a_c2c9_11eb_8b14_0242ac1c0002row12_col13\" class=\"data row12 col13\" >86</td>\n",
              "                        <td id=\"T_efc2475a_c2c9_11eb_8b14_0242ac1c0002row12_col14\" class=\"data row12 col14\" >63</td>\n",
              "                        <td id=\"T_efc2475a_c2c9_11eb_8b14_0242ac1c0002row12_col15\" class=\"data row12 col15\" >66</td>\n",
              "                        <td id=\"T_efc2475a_c2c9_11eb_8b14_0242ac1c0002row12_col16\" class=\"data row12 col16\" >2</td>\n",
              "                        <td id=\"T_efc2475a_c2c9_11eb_8b14_0242ac1c0002row12_col17\" class=\"data row12 col17\" >2</td>\n",
              "                        <td id=\"T_efc2475a_c2c9_11eb_8b14_0242ac1c0002row12_col18\" class=\"data row12 col18\" >62</td>\n",
              "                        <td id=\"T_efc2475a_c2c9_11eb_8b14_0242ac1c0002row12_col19\" class=\"data row12 col19\" >61</td>\n",
              "            </tr>\n",
              "            <tr>\n",
              "                        <th id=\"T_efc2475a_c2c9_11eb_8b14_0242ac1c0002level0_row13\" class=\"row_heading level0 row13\" >13</th>\n",
              "                        <td id=\"T_efc2475a_c2c9_11eb_8b14_0242ac1c0002row13_col0\" class=\"data row13 col0\" >0</td>\n",
              "                        <td id=\"T_efc2475a_c2c9_11eb_8b14_0242ac1c0002row13_col1\" class=\"data row13 col1\" >0</td>\n",
              "                        <td id=\"T_efc2475a_c2c9_11eb_8b14_0242ac1c0002row13_col2\" class=\"data row13 col2\" >0</td>\n",
              "                        <td id=\"T_efc2475a_c2c9_11eb_8b14_0242ac1c0002row13_col3\" class=\"data row13 col3\" >52</td>\n",
              "                        <td id=\"T_efc2475a_c2c9_11eb_8b14_0242ac1c0002row13_col4\" class=\"data row13 col4\" >80</td>\n",
              "                        <td id=\"T_efc2475a_c2c9_11eb_8b14_0242ac1c0002row13_col5\" class=\"data row13 col5\" >43</td>\n",
              "                        <td id=\"T_efc2475a_c2c9_11eb_8b14_0242ac1c0002row13_col6\" class=\"data row13 col6\" >40</td>\n",
              "                        <td id=\"T_efc2475a_c2c9_11eb_8b14_0242ac1c0002row13_col7\" class=\"data row13 col7\" >38</td>\n",
              "                        <td id=\"T_efc2475a_c2c9_11eb_8b14_0242ac1c0002row13_col8\" class=\"data row13 col8\" >49</td>\n",
              "                        <td id=\"T_efc2475a_c2c9_11eb_8b14_0242ac1c0002row13_col9\" class=\"data row13 col9\" >66</td>\n",
              "                        <td id=\"T_efc2475a_c2c9_11eb_8b14_0242ac1c0002row13_col10\" class=\"data row13 col10\" >54</td>\n",
              "                        <td id=\"T_efc2475a_c2c9_11eb_8b14_0242ac1c0002row13_col11\" class=\"data row13 col11\" >47</td>\n",
              "                        <td id=\"T_efc2475a_c2c9_11eb_8b14_0242ac1c0002row13_col12\" class=\"data row13 col12\" >64</td>\n",
              "                        <td id=\"T_efc2475a_c2c9_11eb_8b14_0242ac1c0002row13_col13\" class=\"data row13 col13\" >61</td>\n",
              "                        <td id=\"T_efc2475a_c2c9_11eb_8b14_0242ac1c0002row13_col14\" class=\"data row13 col14\" >47</td>\n",
              "                        <td id=\"T_efc2475a_c2c9_11eb_8b14_0242ac1c0002row13_col15\" class=\"data row13 col15\" >32</td>\n",
              "                        <td id=\"T_efc2475a_c2c9_11eb_8b14_0242ac1c0002row13_col16\" class=\"data row13 col16\" >0</td>\n",
              "                        <td id=\"T_efc2475a_c2c9_11eb_8b14_0242ac1c0002row13_col17\" class=\"data row13 col17\" >0</td>\n",
              "                        <td id=\"T_efc2475a_c2c9_11eb_8b14_0242ac1c0002row13_col18\" class=\"data row13 col18\" >33</td>\n",
              "                        <td id=\"T_efc2475a_c2c9_11eb_8b14_0242ac1c0002row13_col19\" class=\"data row13 col19\" >62</td>\n",
              "            </tr>\n",
              "            <tr>\n",
              "                        <th id=\"T_efc2475a_c2c9_11eb_8b14_0242ac1c0002level0_row14\" class=\"row_heading level0 row14\" >14</th>\n",
              "                        <td id=\"T_efc2475a_c2c9_11eb_8b14_0242ac1c0002row14_col0\" class=\"data row14 col0\" >0</td>\n",
              "                        <td id=\"T_efc2475a_c2c9_11eb_8b14_0242ac1c0002row14_col1\" class=\"data row14 col1\" >0</td>\n",
              "                        <td id=\"T_efc2475a_c2c9_11eb_8b14_0242ac1c0002row14_col2\" class=\"data row14 col2\" >0</td>\n",
              "                        <td id=\"T_efc2475a_c2c9_11eb_8b14_0242ac1c0002row14_col3\" class=\"data row14 col3\" >0</td>\n",
              "                        <td id=\"T_efc2475a_c2c9_11eb_8b14_0242ac1c0002row14_col4\" class=\"data row14 col4\" >41</td>\n",
              "                        <td id=\"T_efc2475a_c2c9_11eb_8b14_0242ac1c0002row14_col5\" class=\"data row14 col5\" >56</td>\n",
              "                        <td id=\"T_efc2475a_c2c9_11eb_8b14_0242ac1c0002row14_col6\" class=\"data row14 col6\" >41</td>\n",
              "                        <td id=\"T_efc2475a_c2c9_11eb_8b14_0242ac1c0002row14_col7\" class=\"data row14 col7\" >47</td>\n",
              "                        <td id=\"T_efc2475a_c2c9_11eb_8b14_0242ac1c0002row14_col8\" class=\"data row14 col8\" >60</td>\n",
              "                        <td id=\"T_efc2475a_c2c9_11eb_8b14_0242ac1c0002row14_col9\" class=\"data row14 col9\" >73</td>\n",
              "                        <td id=\"T_efc2475a_c2c9_11eb_8b14_0242ac1c0002row14_col10\" class=\"data row14 col10\" >45</td>\n",
              "                        <td id=\"T_efc2475a_c2c9_11eb_8b14_0242ac1c0002row14_col11\" class=\"data row14 col11\" >43</td>\n",
              "                        <td id=\"T_efc2475a_c2c9_11eb_8b14_0242ac1c0002row14_col12\" class=\"data row14 col12\" >61</td>\n",
              "                        <td id=\"T_efc2475a_c2c9_11eb_8b14_0242ac1c0002row14_col13\" class=\"data row14 col13\" >52</td>\n",
              "                        <td id=\"T_efc2475a_c2c9_11eb_8b14_0242ac1c0002row14_col14\" class=\"data row14 col14\" >38</td>\n",
              "                        <td id=\"T_efc2475a_c2c9_11eb_8b14_0242ac1c0002row14_col15\" class=\"data row14 col15\" >1</td>\n",
              "                        <td id=\"T_efc2475a_c2c9_11eb_8b14_0242ac1c0002row14_col16\" class=\"data row14 col16\" >0</td>\n",
              "                        <td id=\"T_efc2475a_c2c9_11eb_8b14_0242ac1c0002row14_col17\" class=\"data row14 col17\" >0</td>\n",
              "                        <td id=\"T_efc2475a_c2c9_11eb_8b14_0242ac1c0002row14_col18\" class=\"data row14 col18\" >0</td>\n",
              "                        <td id=\"T_efc2475a_c2c9_11eb_8b14_0242ac1c0002row14_col19\" class=\"data row14 col19\" >39</td>\n",
              "            </tr>\n",
              "            <tr>\n",
              "                        <th id=\"T_efc2475a_c2c9_11eb_8b14_0242ac1c0002level0_row15\" class=\"row_heading level0 row15\" >15</th>\n",
              "                        <td id=\"T_efc2475a_c2c9_11eb_8b14_0242ac1c0002row15_col0\" class=\"data row15 col0\" >0</td>\n",
              "                        <td id=\"T_efc2475a_c2c9_11eb_8b14_0242ac1c0002row15_col1\" class=\"data row15 col1\" >0</td>\n",
              "                        <td id=\"T_efc2475a_c2c9_11eb_8b14_0242ac1c0002row15_col2\" class=\"data row15 col2\" >0</td>\n",
              "                        <td id=\"T_efc2475a_c2c9_11eb_8b14_0242ac1c0002row15_col3\" class=\"data row15 col3\" >0</td>\n",
              "                        <td id=\"T_efc2475a_c2c9_11eb_8b14_0242ac1c0002row15_col4\" class=\"data row15 col4\" >0</td>\n",
              "                        <td id=\"T_efc2475a_c2c9_11eb_8b14_0242ac1c0002row15_col5\" class=\"data row15 col5\" >22</td>\n",
              "                        <td id=\"T_efc2475a_c2c9_11eb_8b14_0242ac1c0002row15_col6\" class=\"data row15 col6\" >43</td>\n",
              "                        <td id=\"T_efc2475a_c2c9_11eb_8b14_0242ac1c0002row15_col7\" class=\"data row15 col7\" >45</td>\n",
              "                        <td id=\"T_efc2475a_c2c9_11eb_8b14_0242ac1c0002row15_col8\" class=\"data row15 col8\" >53</td>\n",
              "                        <td id=\"T_efc2475a_c2c9_11eb_8b14_0242ac1c0002row15_col9\" class=\"data row15 col9\" >57</td>\n",
              "                        <td id=\"T_efc2475a_c2c9_11eb_8b14_0242ac1c0002row15_col10\" class=\"data row15 col10\" >66</td>\n",
              "                        <td id=\"T_efc2475a_c2c9_11eb_8b14_0242ac1c0002row15_col11\" class=\"data row15 col11\" >115</td>\n",
              "                        <td id=\"T_efc2475a_c2c9_11eb_8b14_0242ac1c0002row15_col12\" class=\"data row15 col12\" >104</td>\n",
              "                        <td id=\"T_efc2475a_c2c9_11eb_8b14_0242ac1c0002row15_col13\" class=\"data row15 col13\" >42</td>\n",
              "                        <td id=\"T_efc2475a_c2c9_11eb_8b14_0242ac1c0002row15_col14\" class=\"data row15 col14\" >0</td>\n",
              "                        <td id=\"T_efc2475a_c2c9_11eb_8b14_0242ac1c0002row15_col15\" class=\"data row15 col15\" >0</td>\n",
              "                        <td id=\"T_efc2475a_c2c9_11eb_8b14_0242ac1c0002row15_col16\" class=\"data row15 col16\" >0</td>\n",
              "                        <td id=\"T_efc2475a_c2c9_11eb_8b14_0242ac1c0002row15_col17\" class=\"data row15 col17\" >0</td>\n",
              "                        <td id=\"T_efc2475a_c2c9_11eb_8b14_0242ac1c0002row15_col18\" class=\"data row15 col18\" >0</td>\n",
              "                        <td id=\"T_efc2475a_c2c9_11eb_8b14_0242ac1c0002row15_col19\" class=\"data row15 col19\" >0</td>\n",
              "            </tr>\n",
              "            <tr>\n",
              "                        <th id=\"T_efc2475a_c2c9_11eb_8b14_0242ac1c0002level0_row16\" class=\"row_heading level0 row16\" >16</th>\n",
              "                        <td id=\"T_efc2475a_c2c9_11eb_8b14_0242ac1c0002row16_col0\" class=\"data row16 col0\" >0</td>\n",
              "                        <td id=\"T_efc2475a_c2c9_11eb_8b14_0242ac1c0002row16_col1\" class=\"data row16 col1\" >0</td>\n",
              "                        <td id=\"T_efc2475a_c2c9_11eb_8b14_0242ac1c0002row16_col2\" class=\"data row16 col2\" >0</td>\n",
              "                        <td id=\"T_efc2475a_c2c9_11eb_8b14_0242ac1c0002row16_col3\" class=\"data row16 col3\" >0</td>\n",
              "                        <td id=\"T_efc2475a_c2c9_11eb_8b14_0242ac1c0002row16_col4\" class=\"data row16 col4\" >0</td>\n",
              "                        <td id=\"T_efc2475a_c2c9_11eb_8b14_0242ac1c0002row16_col5\" class=\"data row16 col5\" >0</td>\n",
              "                        <td id=\"T_efc2475a_c2c9_11eb_8b14_0242ac1c0002row16_col6\" class=\"data row16 col6\" >1</td>\n",
              "                        <td id=\"T_efc2475a_c2c9_11eb_8b14_0242ac1c0002row16_col7\" class=\"data row16 col7\" >4</td>\n",
              "                        <td id=\"T_efc2475a_c2c9_11eb_8b14_0242ac1c0002row16_col8\" class=\"data row16 col8\" >22</td>\n",
              "                        <td id=\"T_efc2475a_c2c9_11eb_8b14_0242ac1c0002row16_col9\" class=\"data row16 col9\" >27</td>\n",
              "                        <td id=\"T_efc2475a_c2c9_11eb_8b14_0242ac1c0002row16_col10\" class=\"data row16 col10\" >40</td>\n",
              "                        <td id=\"T_efc2475a_c2c9_11eb_8b14_0242ac1c0002row16_col11\" class=\"data row16 col11\" >34</td>\n",
              "                        <td id=\"T_efc2475a_c2c9_11eb_8b14_0242ac1c0002row16_col12\" class=\"data row16 col12\" >4</td>\n",
              "                        <td id=\"T_efc2475a_c2c9_11eb_8b14_0242ac1c0002row16_col13\" class=\"data row16 col13\" >0</td>\n",
              "                        <td id=\"T_efc2475a_c2c9_11eb_8b14_0242ac1c0002row16_col14\" class=\"data row16 col14\" >0</td>\n",
              "                        <td id=\"T_efc2475a_c2c9_11eb_8b14_0242ac1c0002row16_col15\" class=\"data row16 col15\" >0</td>\n",
              "                        <td id=\"T_efc2475a_c2c9_11eb_8b14_0242ac1c0002row16_col16\" class=\"data row16 col16\" >0</td>\n",
              "                        <td id=\"T_efc2475a_c2c9_11eb_8b14_0242ac1c0002row16_col17\" class=\"data row16 col17\" >0</td>\n",
              "                        <td id=\"T_efc2475a_c2c9_11eb_8b14_0242ac1c0002row16_col18\" class=\"data row16 col18\" >0</td>\n",
              "                        <td id=\"T_efc2475a_c2c9_11eb_8b14_0242ac1c0002row16_col19\" class=\"data row16 col19\" >0</td>\n",
              "            </tr>\n",
              "            <tr>\n",
              "                        <th id=\"T_efc2475a_c2c9_11eb_8b14_0242ac1c0002level0_row17\" class=\"row_heading level0 row17\" >17</th>\n",
              "                        <td id=\"T_efc2475a_c2c9_11eb_8b14_0242ac1c0002row17_col0\" class=\"data row17 col0\" >0</td>\n",
              "                        <td id=\"T_efc2475a_c2c9_11eb_8b14_0242ac1c0002row17_col1\" class=\"data row17 col1\" >0</td>\n",
              "                        <td id=\"T_efc2475a_c2c9_11eb_8b14_0242ac1c0002row17_col2\" class=\"data row17 col2\" >0</td>\n",
              "                        <td id=\"T_efc2475a_c2c9_11eb_8b14_0242ac1c0002row17_col3\" class=\"data row17 col3\" >0</td>\n",
              "                        <td id=\"T_efc2475a_c2c9_11eb_8b14_0242ac1c0002row17_col4\" class=\"data row17 col4\" >0</td>\n",
              "                        <td id=\"T_efc2475a_c2c9_11eb_8b14_0242ac1c0002row17_col5\" class=\"data row17 col5\" >0</td>\n",
              "                        <td id=\"T_efc2475a_c2c9_11eb_8b14_0242ac1c0002row17_col6\" class=\"data row17 col6\" >0</td>\n",
              "                        <td id=\"T_efc2475a_c2c9_11eb_8b14_0242ac1c0002row17_col7\" class=\"data row17 col7\" >8</td>\n",
              "                        <td id=\"T_efc2475a_c2c9_11eb_8b14_0242ac1c0002row17_col8\" class=\"data row17 col8\" >18</td>\n",
              "                        <td id=\"T_efc2475a_c2c9_11eb_8b14_0242ac1c0002row17_col9\" class=\"data row17 col9\" >10</td>\n",
              "                        <td id=\"T_efc2475a_c2c9_11eb_8b14_0242ac1c0002row17_col10\" class=\"data row17 col10\" >0</td>\n",
              "                        <td id=\"T_efc2475a_c2c9_11eb_8b14_0242ac1c0002row17_col11\" class=\"data row17 col11\" >0</td>\n",
              "                        <td id=\"T_efc2475a_c2c9_11eb_8b14_0242ac1c0002row17_col12\" class=\"data row17 col12\" >0</td>\n",
              "                        <td id=\"T_efc2475a_c2c9_11eb_8b14_0242ac1c0002row17_col13\" class=\"data row17 col13\" >0</td>\n",
              "                        <td id=\"T_efc2475a_c2c9_11eb_8b14_0242ac1c0002row17_col14\" class=\"data row17 col14\" >0</td>\n",
              "                        <td id=\"T_efc2475a_c2c9_11eb_8b14_0242ac1c0002row17_col15\" class=\"data row17 col15\" >0</td>\n",
              "                        <td id=\"T_efc2475a_c2c9_11eb_8b14_0242ac1c0002row17_col16\" class=\"data row17 col16\" >0</td>\n",
              "                        <td id=\"T_efc2475a_c2c9_11eb_8b14_0242ac1c0002row17_col17\" class=\"data row17 col17\" >0</td>\n",
              "                        <td id=\"T_efc2475a_c2c9_11eb_8b14_0242ac1c0002row17_col18\" class=\"data row17 col18\" >0</td>\n",
              "                        <td id=\"T_efc2475a_c2c9_11eb_8b14_0242ac1c0002row17_col19\" class=\"data row17 col19\" >1</td>\n",
              "            </tr>\n",
              "            <tr>\n",
              "                        <th id=\"T_efc2475a_c2c9_11eb_8b14_0242ac1c0002level0_row18\" class=\"row_heading level0 row18\" >18</th>\n",
              "                        <td id=\"T_efc2475a_c2c9_11eb_8b14_0242ac1c0002row18_col0\" class=\"data row18 col0\" >0</td>\n",
              "                        <td id=\"T_efc2475a_c2c9_11eb_8b14_0242ac1c0002row18_col1\" class=\"data row18 col1\" >0</td>\n",
              "                        <td id=\"T_efc2475a_c2c9_11eb_8b14_0242ac1c0002row18_col2\" class=\"data row18 col2\" >0</td>\n",
              "                        <td id=\"T_efc2475a_c2c9_11eb_8b14_0242ac1c0002row18_col3\" class=\"data row18 col3\" >0</td>\n",
              "                        <td id=\"T_efc2475a_c2c9_11eb_8b14_0242ac1c0002row18_col4\" class=\"data row18 col4\" >0</td>\n",
              "                        <td id=\"T_efc2475a_c2c9_11eb_8b14_0242ac1c0002row18_col5\" class=\"data row18 col5\" >0</td>\n",
              "                        <td id=\"T_efc2475a_c2c9_11eb_8b14_0242ac1c0002row18_col6\" class=\"data row18 col6\" >25</td>\n",
              "                        <td id=\"T_efc2475a_c2c9_11eb_8b14_0242ac1c0002row18_col7\" class=\"data row18 col7\" >139</td>\n",
              "                        <td id=\"T_efc2475a_c2c9_11eb_8b14_0242ac1c0002row18_col8\" class=\"data row18 col8\" >189</td>\n",
              "                        <td id=\"T_efc2475a_c2c9_11eb_8b14_0242ac1c0002row18_col9\" class=\"data row18 col9\" >172</td>\n",
              "                        <td id=\"T_efc2475a_c2c9_11eb_8b14_0242ac1c0002row18_col10\" class=\"data row18 col10\" >93</td>\n",
              "                        <td id=\"T_efc2475a_c2c9_11eb_8b14_0242ac1c0002row18_col11\" class=\"data row18 col11\" >9</td>\n",
              "                        <td id=\"T_efc2475a_c2c9_11eb_8b14_0242ac1c0002row18_col12\" class=\"data row18 col12\" >0</td>\n",
              "                        <td id=\"T_efc2475a_c2c9_11eb_8b14_0242ac1c0002row18_col13\" class=\"data row18 col13\" >0</td>\n",
              "                        <td id=\"T_efc2475a_c2c9_11eb_8b14_0242ac1c0002row18_col14\" class=\"data row18 col14\" >0</td>\n",
              "                        <td id=\"T_efc2475a_c2c9_11eb_8b14_0242ac1c0002row18_col15\" class=\"data row18 col15\" >0</td>\n",
              "                        <td id=\"T_efc2475a_c2c9_11eb_8b14_0242ac1c0002row18_col16\" class=\"data row18 col16\" >0</td>\n",
              "                        <td id=\"T_efc2475a_c2c9_11eb_8b14_0242ac1c0002row18_col17\" class=\"data row18 col17\" >0</td>\n",
              "                        <td id=\"T_efc2475a_c2c9_11eb_8b14_0242ac1c0002row18_col18\" class=\"data row18 col18\" >26</td>\n",
              "                        <td id=\"T_efc2475a_c2c9_11eb_8b14_0242ac1c0002row18_col19\" class=\"data row18 col19\" >131</td>\n",
              "            </tr>\n",
              "            <tr>\n",
              "                        <th id=\"T_efc2475a_c2c9_11eb_8b14_0242ac1c0002level0_row19\" class=\"row_heading level0 row19\" >19</th>\n",
              "                        <td id=\"T_efc2475a_c2c9_11eb_8b14_0242ac1c0002row19_col0\" class=\"data row19 col0\" >0</td>\n",
              "                        <td id=\"T_efc2475a_c2c9_11eb_8b14_0242ac1c0002row19_col1\" class=\"data row19 col1\" >0</td>\n",
              "                        <td id=\"T_efc2475a_c2c9_11eb_8b14_0242ac1c0002row19_col2\" class=\"data row19 col2\" >0</td>\n",
              "                        <td id=\"T_efc2475a_c2c9_11eb_8b14_0242ac1c0002row19_col3\" class=\"data row19 col3\" >0</td>\n",
              "                        <td id=\"T_efc2475a_c2c9_11eb_8b14_0242ac1c0002row19_col4\" class=\"data row19 col4\" >0</td>\n",
              "                        <td id=\"T_efc2475a_c2c9_11eb_8b14_0242ac1c0002row19_col5\" class=\"data row19 col5\" >29</td>\n",
              "                        <td id=\"T_efc2475a_c2c9_11eb_8b14_0242ac1c0002row19_col6\" class=\"data row19 col6\" >69</td>\n",
              "                        <td id=\"T_efc2475a_c2c9_11eb_8b14_0242ac1c0002row19_col7\" class=\"data row19 col7\" >120</td>\n",
              "                        <td id=\"T_efc2475a_c2c9_11eb_8b14_0242ac1c0002row19_col8\" class=\"data row19 col8\" >205</td>\n",
              "                        <td id=\"T_efc2475a_c2c9_11eb_8b14_0242ac1c0002row19_col9\" class=\"data row19 col9\" >200</td>\n",
              "                        <td id=\"T_efc2475a_c2c9_11eb_8b14_0242ac1c0002row19_col10\" class=\"data row19 col10\" >121</td>\n",
              "                        <td id=\"T_efc2475a_c2c9_11eb_8b14_0242ac1c0002row19_col11\" class=\"data row19 col11\" >69</td>\n",
              "                        <td id=\"T_efc2475a_c2c9_11eb_8b14_0242ac1c0002row19_col12\" class=\"data row19 col12\" >0</td>\n",
              "                        <td id=\"T_efc2475a_c2c9_11eb_8b14_0242ac1c0002row19_col13\" class=\"data row19 col13\" >0</td>\n",
              "                        <td id=\"T_efc2475a_c2c9_11eb_8b14_0242ac1c0002row19_col14\" class=\"data row19 col14\" >0</td>\n",
              "                        <td id=\"T_efc2475a_c2c9_11eb_8b14_0242ac1c0002row19_col15\" class=\"data row19 col15\" >0</td>\n",
              "                        <td id=\"T_efc2475a_c2c9_11eb_8b14_0242ac1c0002row19_col16\" class=\"data row19 col16\" >0</td>\n",
              "                        <td id=\"T_efc2475a_c2c9_11eb_8b14_0242ac1c0002row19_col17\" class=\"data row19 col17\" >21</td>\n",
              "                        <td id=\"T_efc2475a_c2c9_11eb_8b14_0242ac1c0002row19_col18\" class=\"data row19 col18\" >69</td>\n",
              "                        <td id=\"T_efc2475a_c2c9_11eb_8b14_0242ac1c0002row19_col19\" class=\"data row19 col19\" >117</td>\n",
              "            </tr>\n",
              "    </tbody></table>"
            ],
            "text/plain": [
              "<pandas.io.formats.style.Styler at 0x7f990b05d8d0>"
            ]
          },
          "metadata": {
            "tags": []
          },
          "execution_count": 38
        }
      ]
    },
    {
      "cell_type": "markdown",
      "metadata": {
        "id": "AEAXHP1KMr71"
      },
      "source": [
        "Images typically have three dimensions: height, width, and color depth. \n",
        "\n",
        "Grayscale images have only a single color channel and could thus be stored in 2D tensors, by convention image tensors are always 3D, with a one-dimensional color channel for grayscale images. \n",
        "\n",
        "A batch of 128 grayscale images of size 256 × 256 could be stored in a tensor of shape (128, 256, 256),\n",
        "\n",
        "a batch of 128 color images could be stored in a tensor of shape (128, 256, 256, 3)\n",
        "\n",
        "\n",
        "![ch02-image_data.png](data:image/png;base64,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)\n"
      ]
    }
  ]
}